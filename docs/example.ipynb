{
 "cells": [
  {
   "cell_type": "code",
   "execution_count": 1,
   "id": "ranking-employment",
   "metadata": {},
   "outputs": [],
   "source": [
    "from datetime import datetime\n",
    "from typing import List, Optional\n",
    "from dataclasses import dataclass, fields\n",
    "\n",
    "\n",
    "@dataclass\n",
    "class Adventurer:\n",
    "    name: str\n",
    "    profession: str\n",
    "    level: int\n",
    "    affinity: str\n",
    "\n",
    "        \n",
    "@dataclass\n",
    "class QuestGiver:\n",
    "    name: str\n",
    "    faction: Optional[str]\n",
    "    location: str\n",
    "\n",
    "        \n",
    "@dataclass\n",
    "class Quest:\n",
    "    name: str\n",
    "    giver: QuestGiver\n",
    "    reward_gold: int\n",
    "\n",
    "        \n",
    "@dataclass\n",
    "class Party:\n",
    "    name: str\n",
    "    formed_datetime: datetime\n",
    "    members: List[Adventurer]\n",
    "    active_quest: Optional[Quest]\n"
   ]
  },
  {
   "cell_type": "code",
   "execution_count": 2,
   "id": "wooden-journalist",
   "metadata": {},
   "outputs": [
    {
     "data": {
      "text/plain": [
       "(__main__.Party, object)"
      ]
     },
     "execution_count": 2,
     "metadata": {},
     "output_type": "execute_result"
    }
   ],
   "source": [
    "Party.__mro__"
   ]
  },
  {
   "cell_type": "code",
   "execution_count": 3,
   "id": "satisfied-north",
   "metadata": {},
   "outputs": [
    {
     "data": {
      "text/plain": [
       "{'name': str,\n",
       " 'formed_datetime': datetime.datetime,\n",
       " 'members': typing.List[__main__.Adventurer],\n",
       " 'active_quest': typing.Union[__main__.Quest, NoneType]}"
      ]
     },
     "execution_count": 3,
     "metadata": {},
     "output_type": "execute_result"
    }
   ],
   "source": [
    "Party.__annotations__"
   ]
  },
  {
   "cell_type": "code",
   "execution_count": 4,
   "id": "surprising-conditions",
   "metadata": {},
   "outputs": [],
   "source": [
    "from typing import get_type_hints"
   ]
  },
  {
   "cell_type": "code",
   "execution_count": 5,
   "id": "operating-access",
   "metadata": {},
   "outputs": [
    {
     "data": {
      "text/plain": [
       "{'name': str,\n",
       " 'formed_datetime': datetime.datetime,\n",
       " 'members': typing.List[__main__.Adventurer],\n",
       " 'active_quest': typing.Union[__main__.Quest, NoneType]}"
      ]
     },
     "execution_count": 5,
     "metadata": {},
     "output_type": "execute_result"
    }
   ],
   "source": [
    "get_type_hints(Party)"
   ]
  },
  {
   "cell_type": "code",
   "execution_count": 6,
   "id": "valid-candidate",
   "metadata": {},
   "outputs": [
    {
     "data": {
      "text/plain": [
       "['__annotations__',\n",
       " '__class__',\n",
       " '__dataclass_fields__',\n",
       " '__dataclass_params__',\n",
       " '__delattr__',\n",
       " '__dict__',\n",
       " '__dir__',\n",
       " '__doc__',\n",
       " '__eq__',\n",
       " '__format__',\n",
       " '__ge__',\n",
       " '__getattribute__',\n",
       " '__gt__',\n",
       " '__hash__',\n",
       " '__init__',\n",
       " '__init_subclass__',\n",
       " '__le__',\n",
       " '__lt__',\n",
       " '__module__',\n",
       " '__ne__',\n",
       " '__new__',\n",
       " '__reduce__',\n",
       " '__reduce_ex__',\n",
       " '__repr__',\n",
       " '__setattr__',\n",
       " '__sizeof__',\n",
       " '__str__',\n",
       " '__subclasshook__',\n",
       " '__weakref__']"
      ]
     },
     "execution_count": 6,
     "metadata": {},
     "output_type": "execute_result"
    }
   ],
   "source": [
    "dir(Party)"
   ]
  },
  {
   "cell_type": "code",
   "execution_count": 7,
   "id": "interested-harbor",
   "metadata": {},
   "outputs": [
    {
     "data": {
      "text/plain": [
       "Field(name='members',type=typing.List[__main__.Adventurer],default=<dataclasses._MISSING_TYPE object at 0x7fe0a148b4f0>,default_factory=<dataclasses._MISSING_TYPE object at 0x7fe0a148b4f0>,init=True,repr=True,hash=None,compare=True,metadata=mappingproxy({}),_field_type=_FIELD)"
      ]
     },
     "execution_count": 7,
     "metadata": {},
     "output_type": "execute_result"
    }
   ],
   "source": [
    "fields(Party)[2]"
   ]
  },
  {
   "cell_type": "code",
   "execution_count": 8,
   "id": "designing-chance",
   "metadata": {},
   "outputs": [
    {
     "data": {
      "text/plain": [
       "'members'"
      ]
     },
     "execution_count": 8,
     "metadata": {},
     "output_type": "execute_result"
    }
   ],
   "source": [
    "fields(Party)[2].name"
   ]
  },
  {
   "cell_type": "code",
   "execution_count": 9,
   "id": "interim-sacramento",
   "metadata": {},
   "outputs": [
    {
     "data": {
      "text/plain": [
       "typing.List[__main__.Adventurer]"
      ]
     },
     "execution_count": 9,
     "metadata": {},
     "output_type": "execute_result"
    }
   ],
   "source": [
    "fields(Party)[2].type"
   ]
  },
  {
   "cell_type": "code",
   "execution_count": 10,
   "id": "noted-uganda",
   "metadata": {},
   "outputs": [
    {
     "data": {
      "text/plain": [
       "typing._GenericAlias"
      ]
     },
     "execution_count": 10,
     "metadata": {},
     "output_type": "execute_result"
    }
   ],
   "source": [
    "type(fields(Party)[2].type)"
   ]
  },
  {
   "cell_type": "code",
   "execution_count": 11,
   "id": "major-distinction",
   "metadata": {},
   "outputs": [],
   "source": [
    "from typing import _GenericAlias"
   ]
  },
  {
   "cell_type": "code",
   "execution_count": null,
   "id": "finished-organic",
   "metadata": {},
   "outputs": [],
   "source": []
  },
  {
   "cell_type": "code",
   "execution_count": 12,
   "id": "together-salvation",
   "metadata": {},
   "outputs": [
    {
     "data": {
      "text/plain": [
       "True"
      ]
     },
     "execution_count": 12,
     "metadata": {},
     "output_type": "execute_result"
    }
   ],
   "source": [
    "isinstance(fields(Party)[2].type, _GenericAlias)"
   ]
  },
  {
   "cell_type": "code",
   "execution_count": 13,
   "id": "committed-royal",
   "metadata": {},
   "outputs": [
    {
     "data": {
      "text/plain": [
       "'typing.List[__main__.Adventurer]'"
      ]
     },
     "execution_count": 13,
     "metadata": {},
     "output_type": "execute_result"
    }
   ],
   "source": [
    "str(fields(Party)[2].type)"
   ]
  },
  {
   "cell_type": "code",
   "execution_count": 14,
   "id": "temporal-biology",
   "metadata": {},
   "outputs": [],
   "source": [
    "from typing import get_origin, get_args"
   ]
  },
  {
   "cell_type": "code",
   "execution_count": 15,
   "id": "dramatic-commission",
   "metadata": {},
   "outputs": [
    {
     "data": {
      "text/plain": [
       "(list, (__main__.Adventurer,))"
      ]
     },
     "execution_count": 15,
     "metadata": {},
     "output_type": "execute_result"
    }
   ],
   "source": [
    "(get_origin(fields(Party)[2].type), get_args(fields(Party)[2].type))"
   ]
  },
  {
   "cell_type": "code",
   "execution_count": 16,
   "id": "previous-fabric",
   "metadata": {},
   "outputs": [
    {
     "data": {
      "text/plain": [
       "typing.Union[__main__.Quest, NoneType]"
      ]
     },
     "execution_count": 16,
     "metadata": {},
     "output_type": "execute_result"
    }
   ],
   "source": [
    "fields(Party)[3].type"
   ]
  },
  {
   "cell_type": "code",
   "execution_count": 17,
   "id": "atmospheric-friendship",
   "metadata": {},
   "outputs": [
    {
     "data": {
      "text/plain": [
       "'Adventurer'"
      ]
     },
     "execution_count": 17,
     "metadata": {},
     "output_type": "execute_result"
    }
   ],
   "source": [
    "Adventurer.__name__"
   ]
  },
  {
   "cell_type": "code",
   "execution_count": 18,
   "id": "located-moment",
   "metadata": {},
   "outputs": [
    {
     "data": {
      "text/plain": [
       "False"
      ]
     },
     "execution_count": 18,
     "metadata": {},
     "output_type": "execute_result"
    }
   ],
   "source": [
    "isinstance(fields(Party)[3].type, type)"
   ]
  },
  {
   "cell_type": "code",
   "execution_count": 19,
   "id": "danish-cardiff",
   "metadata": {},
   "outputs": [
    {
     "data": {
      "text/plain": [
       "(typing.Union, (__main__.Quest, NoneType))"
      ]
     },
     "execution_count": 19,
     "metadata": {},
     "output_type": "execute_result"
    }
   ],
   "source": [
    "(get_origin(fields(Party)[3].type), get_args(fields(Party)[3].type))"
   ]
  },
  {
   "cell_type": "code",
   "execution_count": 20,
   "id": "coupled-glasgow",
   "metadata": {},
   "outputs": [
    {
     "data": {
      "text/plain": [
       "True"
      ]
     },
     "execution_count": 20,
     "metadata": {},
     "output_type": "execute_result"
    }
   ],
   "source": [
    "origin = get_origin(fields(Party)[3].type)\n",
    "args = get_args(fields(Party)[3].type)\n",
    "from typing import Union\n",
    "\n",
    "origin is Union and type(None) in args\n"
   ]
  },
  {
   "cell_type": "code",
   "execution_count": null,
   "id": "absent-vietnam",
   "metadata": {},
   "outputs": [],
   "source": []
  },
  {
   "cell_type": "code",
   "execution_count": 21,
   "id": "minute-parts",
   "metadata": {},
   "outputs": [],
   "source": [
    "get_origin(str)"
   ]
  },
  {
   "cell_type": "code",
   "execution_count": 22,
   "id": "proved-indiana",
   "metadata": {},
   "outputs": [
    {
     "data": {
      "text/plain": [
       "()"
      ]
     },
     "execution_count": 22,
     "metadata": {},
     "output_type": "execute_result"
    }
   ],
   "source": [
    "get_args(str)"
   ]
  },
  {
   "cell_type": "code",
   "execution_count": 23,
   "id": "prepared-exploration",
   "metadata": {},
   "outputs": [
    {
     "data": {
      "image/svg+xml": [
       "<?xml version=\"1.0\" encoding=\"UTF-8\" standalone=\"no\"?>\n",
       "<!DOCTYPE svg PUBLIC \"-//W3C//DTD SVG 1.1//EN\"\n",
       " \"http://www.w3.org/Graphics/SVG/1.1/DTD/svg11.dtd\">\n",
       "<!-- Generated by graphviz version 2.46.0 (20210118.1747)\n",
       " -->\n",
       "<!-- Pages: 1 -->\n",
       "<svg width=\"790pt\" height=\"281pt\"\n",
       " viewBox=\"0.00 0.00 790.00 280.50\" xmlns=\"http://www.w3.org/2000/svg\" xmlns:xlink=\"http://www.w3.org/1999/xlink\">\n",
       "<g id=\"graph0\" class=\"graph\" transform=\"scale(1 1) rotate(0) translate(4 276.5)\">\n",
       "<polygon fill=\"white\" stroke=\"transparent\" points=\"-4,4 -4,-276.5 786,-276.5 786,4 -4,4\"/>\n",
       "<!-- Party -->\n",
       "<g id=\"node1\" class=\"node\">\n",
       "<title>Party</title>\n",
       "<polygon fill=\"none\" stroke=\"black\" points=\"0.5,-251 0.5,-272 245.5,-272 245.5,-251 0.5,-251\"/>\n",
       "<text text-anchor=\"start\" x=\"106.5\" y=\"-258.8\" font-family=\"Times,serif\" font-weight=\"bold\" font-size=\"14.00\">Party</text>\n",
       "<polygon fill=\"none\" stroke=\"black\" points=\"0.5,-230 0.5,-251 100.5,-251 100.5,-230 0.5,-230\"/>\n",
       "<text text-anchor=\"start\" x=\"35\" y=\"-236.8\" font-family=\"Times,serif\" font-size=\"14.00\">name</text>\n",
       "<polygon fill=\"none\" stroke=\"black\" points=\"100.5,-230 100.5,-251 245.5,-251 245.5,-230 100.5,-230\"/>\n",
       "<text text-anchor=\"start\" x=\"166\" y=\"-236.8\" font-family=\"Times,serif\" font-size=\"14.00\">str</text>\n",
       "<polygon fill=\"none\" stroke=\"black\" points=\"0.5,-209 0.5,-230 100.5,-230 100.5,-209 0.5,-209\"/>\n",
       "<text text-anchor=\"start\" x=\"3.5\" y=\"-215.8\" font-family=\"Times,serif\" font-size=\"14.00\">formed_datetime</text>\n",
       "<polygon fill=\"none\" stroke=\"black\" points=\"100.5,-209 100.5,-230 245.5,-230 245.5,-209 100.5,-209\"/>\n",
       "<text text-anchor=\"start\" x=\"149\" y=\"-215.8\" font-family=\"Times,serif\" font-size=\"14.00\">datetime</text>\n",
       "<polygon fill=\"none\" stroke=\"black\" points=\"0.5,-188 0.5,-209 100.5,-209 100.5,-188 0.5,-188\"/>\n",
       "<text text-anchor=\"start\" x=\"24.5\" y=\"-194.8\" font-family=\"Times,serif\" font-size=\"14.00\">members</text>\n",
       "<polygon fill=\"none\" stroke=\"black\" points=\"100.5,-188 100.5,-209 245.5,-209 245.5,-188 100.5,-188\"/>\n",
       "<text text-anchor=\"start\" x=\"127\" y=\"-194.8\" font-family=\"Times,serif\" font-size=\"14.00\">List[Adventurer]</text>\n",
       "<polygon fill=\"none\" stroke=\"black\" points=\"0.5,-167 0.5,-188 100.5,-188 100.5,-167 0.5,-167\"/>\n",
       "<text text-anchor=\"start\" x=\"16.5\" y=\"-173.8\" font-family=\"Times,serif\" font-size=\"14.00\">active_quest</text>\n",
       "<polygon fill=\"none\" stroke=\"black\" points=\"100.5,-167 100.5,-188 245.5,-188 245.5,-167 100.5,-167\"/>\n",
       "<text text-anchor=\"start\" x=\"103.5\" y=\"-173.8\" font-family=\"Times,serif\" font-size=\"14.00\">Union[Quest, NoneType]</text>\n",
       "</g>\n",
       "<!-- Quest -->\n",
       "<g id=\"node2\" class=\"node\">\n",
       "<title>Quest</title>\n",
       "<polygon fill=\"none\" stroke=\"black\" points=\"353,-106 353,-127 497,-127 497,-106 353,-106\"/>\n",
       "<text text-anchor=\"start\" x=\"407.5\" y=\"-113.8\" font-family=\"Times,serif\" font-weight=\"bold\" font-size=\"14.00\">Quest</text>\n",
       "<polygon fill=\"none\" stroke=\"black\" points=\"353,-85 353,-106 428,-106 428,-85 353,-85\"/>\n",
       "<text text-anchor=\"start\" x=\"375\" y=\"-91.8\" font-family=\"Times,serif\" font-size=\"14.00\">name</text>\n",
       "<polygon fill=\"none\" stroke=\"black\" points=\"428,-85 428,-106 497,-106 497,-85 428,-85\"/>\n",
       "<text text-anchor=\"start\" x=\"455.5\" y=\"-91.8\" font-family=\"Times,serif\" font-size=\"14.00\">str</text>\n",
       "<polygon fill=\"none\" stroke=\"black\" points=\"353,-64 353,-85 428,-85 428,-64 353,-64\"/>\n",
       "<text text-anchor=\"start\" x=\"376.5\" y=\"-70.8\" font-family=\"Times,serif\" font-size=\"14.00\">giver</text>\n",
       "<polygon fill=\"none\" stroke=\"black\" points=\"428,-64 428,-85 497,-85 497,-64 428,-64\"/>\n",
       "<text text-anchor=\"start\" x=\"431\" y=\"-70.8\" font-family=\"Times,serif\" font-size=\"14.00\">QuestGiver</text>\n",
       "<polygon fill=\"none\" stroke=\"black\" points=\"353,-43 353,-64 428,-64 428,-43 353,-43\"/>\n",
       "<text text-anchor=\"start\" x=\"356\" y=\"-49.8\" font-family=\"Times,serif\" font-size=\"14.00\">reward_gold</text>\n",
       "<polygon fill=\"none\" stroke=\"black\" points=\"428,-43 428,-64 497,-64 497,-43 428,-43\"/>\n",
       "<text text-anchor=\"start\" x=\"455\" y=\"-49.8\" font-family=\"Times,serif\" font-size=\"14.00\">int</text>\n",
       "</g>\n",
       "<!-- Party&#45;&gt;Quest -->\n",
       "<g id=\"edge1\" class=\"edge\">\n",
       "<title>Party:e&#45;&gt;Quest:w</title>\n",
       "<path fill=\"none\" stroke=\"black\" d=\"M245,-177C293.15,-177 297.68,-130.86 335.1,-119.5\"/>\n",
       "<polyline fill=\"none\" stroke=\"black\" points=\"353,-117 348.05,-117.69 \"/>\n",
       "<polygon fill=\"black\" stroke=\"black\" points=\"346.37,-112.88 347.75,-122.78 345.77,-123.06 344.39,-113.16 346.37,-112.88\"/>\n",
       "<polyline fill=\"none\" stroke=\"black\" points=\"348.05,-117.69 343.1,-118.38 \"/>\n",
       "<ellipse fill=\"none\" stroke=\"black\" cx=\"339.13\" cy=\"-118.94\" rx=\"4\" ry=\"4\"/>\n",
       "</g>\n",
       "<!-- Adventurer -->\n",
       "<g id=\"node3\" class=\"node\">\n",
       "<title>Adventurer</title>\n",
       "<polygon fill=\"none\" stroke=\"black\" points=\"383,-247 383,-268 467,-268 467,-247 383,-247\"/>\n",
       "<text text-anchor=\"start\" x=\"391\" y=\"-254.8\" font-family=\"Times,serif\" font-weight=\"bold\" font-size=\"14.00\">Adventurer</text>\n",
       "<polygon fill=\"none\" stroke=\"black\" points=\"383,-226 383,-247 446,-247 446,-226 383,-226\"/>\n",
       "<text text-anchor=\"start\" x=\"399\" y=\"-232.8\" font-family=\"Times,serif\" font-size=\"14.00\">name</text>\n",
       "<polygon fill=\"none\" stroke=\"black\" points=\"446,-226 446,-247 467,-247 467,-226 446,-226\"/>\n",
       "<text text-anchor=\"start\" x=\"449.5\" y=\"-232.8\" font-family=\"Times,serif\" font-size=\"14.00\">str</text>\n",
       "<polygon fill=\"none\" stroke=\"black\" points=\"383,-205 383,-226 446,-226 446,-205 383,-205\"/>\n",
       "<text text-anchor=\"start\" x=\"386\" y=\"-211.8\" font-family=\"Times,serif\" font-size=\"14.00\">profession</text>\n",
       "<polygon fill=\"none\" stroke=\"black\" points=\"446,-205 446,-226 467,-226 467,-205 446,-205\"/>\n",
       "<text text-anchor=\"start\" x=\"449.5\" y=\"-211.8\" font-family=\"Times,serif\" font-size=\"14.00\">str</text>\n",
       "<polygon fill=\"none\" stroke=\"black\" points=\"383,-184 383,-205 446,-205 446,-184 383,-184\"/>\n",
       "<text text-anchor=\"start\" x=\"401\" y=\"-190.8\" font-family=\"Times,serif\" font-size=\"14.00\">level</text>\n",
       "<polygon fill=\"none\" stroke=\"black\" points=\"446,-184 446,-205 467,-205 467,-184 446,-184\"/>\n",
       "<text text-anchor=\"start\" x=\"449\" y=\"-190.8\" font-family=\"Times,serif\" font-size=\"14.00\">int</text>\n",
       "<polygon fill=\"none\" stroke=\"black\" points=\"383,-163 383,-184 446,-184 446,-163 383,-163\"/>\n",
       "<text text-anchor=\"start\" x=\"394.5\" y=\"-169.8\" font-family=\"Times,serif\" font-size=\"14.00\">affinity</text>\n",
       "<polygon fill=\"none\" stroke=\"black\" points=\"446,-163 446,-184 467,-184 467,-163 446,-163\"/>\n",
       "<text text-anchor=\"start\" x=\"449.5\" y=\"-169.8\" font-family=\"Times,serif\" font-size=\"14.00\">str</text>\n",
       "</g>\n",
       "<!-- Party&#45;&gt;Adventurer -->\n",
       "<g id=\"edge2\" class=\"edge\">\n",
       "<title>Party:e&#45;&gt;Adventurer:w</title>\n",
       "<path fill=\"none\" stroke=\"black\" d=\"M245,-198C304.85,-198 314.1,-246.64 363.87,-256.33\"/>\n",
       "<polygon fill=\"black\" stroke=\"black\" points=\"372.04,-257.08 381.59,-262.48 377.02,-257.54 382,-258 382,-258 382,-258 377.02,-257.54 382.41,-253.52 372.04,-257.08 372.04,-257.08\"/>\n",
       "<ellipse fill=\"none\" stroke=\"black\" cx=\"368.06\" cy=\"-256.72\" rx=\"4\" ry=\"4\"/>\n",
       "</g>\n",
       "<!-- QuestGiver -->\n",
       "<g id=\"node4\" class=\"node\">\n",
       "<title>QuestGiver</title>\n",
       "<polygon fill=\"none\" stroke=\"black\" points=\"605.5,-63 605.5,-84 782.5,-84 782.5,-63 605.5,-63\"/>\n",
       "<text text-anchor=\"start\" x=\"659.5\" y=\"-70.8\" font-family=\"Times,serif\" font-weight=\"bold\" font-size=\"14.00\">QuestGiver</text>\n",
       "<polygon fill=\"none\" stroke=\"black\" points=\"605.5,-42 605.5,-63 655.5,-63 655.5,-42 605.5,-42\"/>\n",
       "<text text-anchor=\"start\" x=\"615\" y=\"-48.8\" font-family=\"Times,serif\" font-size=\"14.00\">name</text>\n",
       "<polygon fill=\"none\" stroke=\"black\" points=\"655.5,-42 655.5,-63 782.5,-63 782.5,-42 655.5,-42\"/>\n",
       "<text text-anchor=\"start\" x=\"712\" y=\"-48.8\" font-family=\"Times,serif\" font-size=\"14.00\">str</text>\n",
       "<polygon fill=\"none\" stroke=\"black\" points=\"605.5,-21 605.5,-42 655.5,-42 655.5,-21 605.5,-21\"/>\n",
       "<text text-anchor=\"start\" x=\"611.5\" y=\"-27.8\" font-family=\"Times,serif\" font-size=\"14.00\">faction</text>\n",
       "<polygon fill=\"none\" stroke=\"black\" points=\"655.5,-21 655.5,-42 782.5,-42 782.5,-21 655.5,-21\"/>\n",
       "<text text-anchor=\"start\" x=\"658.5\" y=\"-27.8\" font-family=\"Times,serif\" font-size=\"14.00\">Union[str, NoneType]</text>\n",
       "<polygon fill=\"none\" stroke=\"black\" points=\"605.5,0 605.5,-21 655.5,-21 655.5,0 605.5,0\"/>\n",
       "<text text-anchor=\"start\" x=\"608.5\" y=\"-6.8\" font-family=\"Times,serif\" font-size=\"14.00\">location</text>\n",
       "<polygon fill=\"none\" stroke=\"black\" points=\"655.5,0 655.5,-21 782.5,-21 782.5,0 655.5,0\"/>\n",
       "<text text-anchor=\"start\" x=\"712\" y=\"-6.8\" font-family=\"Times,serif\" font-size=\"14.00\">str</text>\n",
       "</g>\n",
       "<!-- Quest&#45;&gt;QuestGiver -->\n",
       "<g id=\"edge3\" class=\"edge\">\n",
       "<title>Quest:e&#45;&gt;QuestGiver:w</title>\n",
       "<path fill=\"none\" stroke=\"black\" d=\"M497,-74C539.56,-74 553.82,-74 589.97,-74\"/>\n",
       "<polyline fill=\"none\" stroke=\"black\" points=\"605,-74 600,-74 \"/>\n",
       "<polygon fill=\"black\" stroke=\"black\" points=\"599,-69 599,-79 597,-79 597,-69 599,-69\"/>\n",
       "<polyline fill=\"none\" stroke=\"black\" points=\"600,-74 595,-74 \"/>\n",
       "<polygon fill=\"black\" stroke=\"black\" points=\"594,-69 594,-79 592,-79 592,-69 594,-69\"/>\n",
       "<polyline fill=\"none\" stroke=\"black\" points=\"595,-74 590,-74 \"/>\n",
       "</g>\n",
       "</g>\n",
       "</svg>\n"
      ],
      "text/plain": [
       "<erdantic.erd.EntityRelationshipDiagram at 0x7fe0a14e1640>"
      ]
     },
     "execution_count": 23,
     "metadata": {},
     "output_type": "execute_result"
    }
   ],
   "source": [
    "from erdantic import create_erd\n",
    "\n",
    "diagram = create_erd(Party)\n",
    "diagram"
   ]
  },
  {
   "cell_type": "code",
   "execution_count": 24,
   "id": "assured-elevation",
   "metadata": {},
   "outputs": [
    {
     "name": "stdout",
     "output_type": "stream",
     "text": [
      "strict digraph \"\" {\n",
      "\tgraph [nodesep=0.5,\n",
      "\t\trankdir=LR,\n",
      "\t\tranksep=1.5\n",
      "\t];\n",
      "\tnode [label=\"\\N\",\n",
      "\t\tshape=plain\n",
      "\t];\n",
      "\tParty\t[label=<<table border=\"0\" cellborder=\"1\" cellspacing=\"0\"><tr><td port=\"_root\" colspan=\"2\"><b>Party</b></td></tr><tr><td>name</td><td port=\"name\">str</td></tr><tr><td>formed_datetime</td><td port=\"formed_datetime\">datetime</td></tr><tr><td>members</td><td port=\"members\">List[Adventurer]</td></tr><tr><td>active_quest</td><td port=\"active_quest\">Union[Quest, NoneType]</td></tr></table>>];\n",
      "\tQuest\t[label=<<table border=\"0\" cellborder=\"1\" cellspacing=\"0\"><tr><td port=\"_root\" colspan=\"2\"><b>Quest</b></td></tr><tr><td>name</td><td port=\"name\">str</td></tr><tr><td>giver</td><td port=\"giver\">QuestGiver</td></tr><tr><td>reward_gold</td><td port=\"reward_gold\">int</td></tr></table>>];\n",
      "\tParty:active_quest:e -> Quest:_root:w\t[arrowhead=noneteeodot];\n",
      "\tAdventurer\t[label=<<table border=\"0\" cellborder=\"1\" cellspacing=\"0\"><tr><td port=\"_root\" colspan=\"2\"><b>Adventurer</b></td></tr><tr><td>name</td><td port=\"name\">str</td></tr><tr><td>profession</td><td port=\"profession\">str</td></tr><tr><td>level</td><td port=\"level\">int</td></tr><tr><td>affinity</td><td port=\"affinity\">str</td></tr></table>>];\n",
      "\tParty:members:e -> Adventurer:_root:w\t[arrowhead=crowodot];\n",
      "\tQuestGiver\t[label=<<table border=\"0\" cellborder=\"1\" cellspacing=\"0\"><tr><td port=\"_root\" colspan=\"2\"><b>QuestGiver</b></td></tr><tr><td>name</td><td port=\"name\">str</td></tr><tr><td>faction</td><td port=\"faction\">Union[str, NoneType]</td></tr><tr><td>location</td><td port=\"location\">str</td></tr></table>>];\n",
      "\tQuest:giver:e -> QuestGiver:_root:w\t[arrowhead=noneteetee];\n",
      "}\n",
      "\n"
     ]
    }
   ],
   "source": [
    "print(diagram.to_dot())"
   ]
  },
  {
   "cell_type": "code",
   "execution_count": 25,
   "id": "realistic-angola",
   "metadata": {},
   "outputs": [],
   "source": [
    "from typing import List"
   ]
  },
  {
   "cell_type": "code",
   "execution_count": 26,
   "id": "determined-fifth",
   "metadata": {},
   "outputs": [
    {
     "data": {
      "text/plain": [
       "typing._GenericAlias"
      ]
     },
     "execution_count": 26,
     "metadata": {},
     "output_type": "execute_result"
    }
   ],
   "source": [
    "type(List)"
   ]
  },
  {
   "cell_type": "code",
   "execution_count": 27,
   "id": "herbal-amount",
   "metadata": {},
   "outputs": [
    {
     "data": {
      "text/plain": [
       "{DataClassModel(dataclass=<class '__main__.Adventurer'>),\n",
       " DataClassModel(dataclass=<class '__main__.Party'>),\n",
       " DataClassModel(dataclass=<class '__main__.Quest'>),\n",
       " DataClassModel(dataclass=<class '__main__.QuestGiver'>)}"
      ]
     },
     "execution_count": 27,
     "metadata": {},
     "output_type": "execute_result"
    }
   ],
   "source": [
    "diagram.models"
   ]
  },
  {
   "cell_type": "code",
   "execution_count": 28,
   "id": "constant-evanescence",
   "metadata": {},
   "outputs": [
    {
     "data": {
      "text/plain": [
       "[DataClassField(dataclass_field=Field(name='name',type=<class 'str'>,default=<dataclasses._MISSING_TYPE object at 0x7fe0a148b4f0>,default_factory=<dataclasses._MISSING_TYPE object at 0x7fe0a148b4f0>,init=True,repr=True,hash=None,compare=True,metadata=mappingproxy({}),_field_type=_FIELD)),\n",
       " DataClassField(dataclass_field=Field(name='formed_datetime',type=<class 'datetime.datetime'>,default=<dataclasses._MISSING_TYPE object at 0x7fe0a148b4f0>,default_factory=<dataclasses._MISSING_TYPE object at 0x7fe0a148b4f0>,init=True,repr=True,hash=None,compare=True,metadata=mappingproxy({}),_field_type=_FIELD)),\n",
       " DataClassField(dataclass_field=Field(name='members',type=typing.List[__main__.Adventurer],default=<dataclasses._MISSING_TYPE object at 0x7fe0a148b4f0>,default_factory=<dataclasses._MISSING_TYPE object at 0x7fe0a148b4f0>,init=True,repr=True,hash=None,compare=True,metadata=mappingproxy({}),_field_type=_FIELD)),\n",
       " DataClassField(dataclass_field=Field(name='active_quest',type=typing.Union[__main__.Quest, NoneType],default=<dataclasses._MISSING_TYPE object at 0x7fe0a148b4f0>,default_factory=<dataclasses._MISSING_TYPE object at 0x7fe0a148b4f0>,init=True,repr=True,hash=None,compare=True,metadata=mappingproxy({}),_field_type=_FIELD))]"
      ]
     },
     "execution_count": 28,
     "metadata": {},
     "output_type": "execute_result"
    }
   ],
   "source": [
    "list(diagram.models)[0].fields"
   ]
  },
  {
   "cell_type": "code",
   "execution_count": 29,
   "id": "heard-tonight",
   "metadata": {},
   "outputs": [],
   "source": [
    "from erdantic import erd"
   ]
  },
  {
   "cell_type": "code",
   "execution_count": 30,
   "id": "humanitarian-supervision",
   "metadata": {},
   "outputs": [
    {
     "data": {
      "text/plain": [
       "{'dataclass': {'type_checker': <function erdantic.dataclasses.is_dataclass(obj: Any) -> bool>,\n",
       "  'constructor': <function erdantic.dataclasses.create_erd(*models: type) -> erdantic.erd.EntityRelationshipDiagram>},\n",
       " 'pydantic': {'type_checker': <function erdantic.pydantic.is_pydantic_model(obj: Any)>,\n",
       "  'constructor': <function erdantic.pydantic.create_erd(*models: Type[pydantic.main.BaseModel]) -> erdantic.erd.EntityRelationshipDiagram>}}"
      ]
     },
     "execution_count": 30,
     "metadata": {},
     "output_type": "execute_result"
    }
   ],
   "source": [
    "erd.implementation_registry"
   ]
  },
  {
   "cell_type": "code",
   "execution_count": null,
   "id": "extended-tongue",
   "metadata": {},
   "outputs": [],
   "source": []
  }
 ],
 "metadata": {
  "kernelspec": {
   "display_name": "Python 3",
   "language": "python",
   "name": "python3"
  },
  "language_info": {
   "codemirror_mode": {
    "name": "ipython",
    "version": 3
   },
   "file_extension": ".py",
   "mimetype": "text/x-python",
   "name": "python",
   "nbconvert_exporter": "python",
   "pygments_lexer": "ipython3",
   "version": "3.8.6"
  }
 },
 "nbformat": 4,
 "nbformat_minor": 5
}
