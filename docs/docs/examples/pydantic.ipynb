{
 "cells": [
  {
   "cell_type": "markdown",
   "id": "chemical-soccer",
   "metadata": {},
   "source": [
    "# Usage Example: Pydantic\n",
    "\n",
    "This notebook shows an example of using erdantic with [Pydantic](https://pydantic-docs.helpmanual.io/) models.\n",
    "\n",
    "Let's take a look at the models from the `erdantic.examples.pydantic` module. Here's their source code for clariy."
   ]
  },
  {
   "cell_type": "code",
   "execution_count": 1,
   "id": "close-directive",
   "metadata": {},
   "outputs": [
    {
     "data": {
      "text/plain": [
       "\u001b[0;31mType:\u001b[0m        module\n",
       "\u001b[0;31mString form:\u001b[0m <module 'erdantic.examples.pydantic' from '/Users/jqi/repos/erdantic/erdantic/examples/pydantic.py'>\n",
       "\u001b[0;31mFile:\u001b[0m        ~/repos/erdantic/erdantic/examples/pydantic.py\n",
       "\u001b[0;31mSource:\u001b[0m     \n",
       "\u001b[0;34m\"\"\"Example data model classes using [Pydantic](https://pydantic-docs.helpmanual.io/).\"\"\"\u001b[0m\u001b[0;34m\u001b[0m\n",
       "\u001b[0;34m\u001b[0m\u001b[0;34m\u001b[0m\n",
       "\u001b[0;34m\u001b[0m\u001b[0;32mfrom\u001b[0m \u001b[0mdatetime\u001b[0m \u001b[0;32mimport\u001b[0m \u001b[0mdatetime\u001b[0m\u001b[0;34m\u001b[0m\n",
       "\u001b[0;34m\u001b[0m\u001b[0;32mfrom\u001b[0m \u001b[0menum\u001b[0m \u001b[0;32mimport\u001b[0m \u001b[0mEnum\u001b[0m\u001b[0;34m\u001b[0m\n",
       "\u001b[0;34m\u001b[0m\u001b[0;32mfrom\u001b[0m \u001b[0mtyping\u001b[0m \u001b[0;32mimport\u001b[0m \u001b[0mList\u001b[0m\u001b[0;34m,\u001b[0m \u001b[0mOptional\u001b[0m\u001b[0;34m\u001b[0m\n",
       "\u001b[0;34m\u001b[0m\u001b[0;34m\u001b[0m\n",
       "\u001b[0;34m\u001b[0m\u001b[0;32mfrom\u001b[0m \u001b[0mpydantic\u001b[0m \u001b[0;32mimport\u001b[0m \u001b[0mBaseModel\u001b[0m\u001b[0;34m\u001b[0m\n",
       "\u001b[0;34m\u001b[0m\u001b[0;34m\u001b[0m\n",
       "\u001b[0;34m\u001b[0m\u001b[0;34m\u001b[0m\n",
       "\u001b[0;34m\u001b[0m\u001b[0;32mclass\u001b[0m \u001b[0mAlignment\u001b[0m\u001b[0;34m(\u001b[0m\u001b[0mstr\u001b[0m\u001b[0;34m,\u001b[0m \u001b[0mEnum\u001b[0m\u001b[0;34m)\u001b[0m\u001b[0;34m:\u001b[0m\u001b[0;34m\u001b[0m\n",
       "\u001b[0;34m\u001b[0m    \u001b[0mLAWFUL_GOOD\u001b[0m \u001b[0;34m=\u001b[0m \u001b[0;34m\"lawful_good\"\u001b[0m\u001b[0;34m\u001b[0m\n",
       "\u001b[0;34m\u001b[0m    \u001b[0mNEUTRAL_GOOD\u001b[0m \u001b[0;34m=\u001b[0m \u001b[0;34m\"neutral_good\"\u001b[0m\u001b[0;34m\u001b[0m\n",
       "\u001b[0;34m\u001b[0m    \u001b[0mCHAOTIC_GOOD\u001b[0m \u001b[0;34m=\u001b[0m \u001b[0;34m\"chaotic_good\"\u001b[0m\u001b[0;34m\u001b[0m\n",
       "\u001b[0;34m\u001b[0m    \u001b[0mLAWFUL_NEUTRAL\u001b[0m \u001b[0;34m=\u001b[0m \u001b[0;34m\"lawful_neutral\"\u001b[0m\u001b[0;34m\u001b[0m\n",
       "\u001b[0;34m\u001b[0m    \u001b[0mTRUE_NEUTRAL\u001b[0m \u001b[0;34m=\u001b[0m \u001b[0;34m\"true_neutral\"\u001b[0m\u001b[0;34m\u001b[0m\n",
       "\u001b[0;34m\u001b[0m    \u001b[0mCHAOTIC_NEUTRAL\u001b[0m \u001b[0;34m=\u001b[0m \u001b[0;34m\"chaotic_neutral\"\u001b[0m\u001b[0;34m\u001b[0m\n",
       "\u001b[0;34m\u001b[0m    \u001b[0mLAWFUL_EVIL\u001b[0m \u001b[0;34m=\u001b[0m \u001b[0;34m\"lawful_evil\"\u001b[0m\u001b[0;34m\u001b[0m\n",
       "\u001b[0;34m\u001b[0m    \u001b[0mNEUTRAL_EVIL\u001b[0m \u001b[0;34m=\u001b[0m \u001b[0;34m\"neutral_evil\"\u001b[0m\u001b[0;34m\u001b[0m\n",
       "\u001b[0;34m\u001b[0m    \u001b[0mCHAOTIC_EVIL\u001b[0m \u001b[0;34m=\u001b[0m \u001b[0;34m\"chaotic_evil\"\u001b[0m\u001b[0;34m\u001b[0m\n",
       "\u001b[0;34m\u001b[0m\u001b[0;34m\u001b[0m\n",
       "\u001b[0;34m\u001b[0m\u001b[0;34m\u001b[0m\n",
       "\u001b[0;34m\u001b[0m\u001b[0;32mclass\u001b[0m \u001b[0mAdventurer\u001b[0m\u001b[0;34m(\u001b[0m\u001b[0mBaseModel\u001b[0m\u001b[0;34m)\u001b[0m\u001b[0;34m:\u001b[0m\u001b[0;34m\u001b[0m\n",
       "\u001b[0;34m\u001b[0m    \u001b[0;34m\"\"\"A person often late for dinner but with a tale or two to tell.\u001b[0m\n",
       "\u001b[0;34m\u001b[0m\n",
       "\u001b[0;34m    Attributes:\u001b[0m\n",
       "\u001b[0;34m        name (str): Name of this adventurer\u001b[0m\n",
       "\u001b[0;34m        profession (str): Profession of this adventurer\u001b[0m\n",
       "\u001b[0;34m        level (int): Level of this adventurer\u001b[0m\n",
       "\u001b[0;34m        alignment (Alignment): Alignment of this adventurer\u001b[0m\n",
       "\u001b[0;34m    \"\"\"\u001b[0m\u001b[0;34m\u001b[0m\n",
       "\u001b[0;34m\u001b[0m\u001b[0;34m\u001b[0m\n",
       "\u001b[0;34m\u001b[0m    \u001b[0mname\u001b[0m\u001b[0;34m:\u001b[0m \u001b[0mstr\u001b[0m\u001b[0;34m\u001b[0m\n",
       "\u001b[0;34m\u001b[0m    \u001b[0mprofession\u001b[0m\u001b[0;34m:\u001b[0m \u001b[0mstr\u001b[0m\u001b[0;34m\u001b[0m\n",
       "\u001b[0;34m\u001b[0m    \u001b[0mlevel\u001b[0m\u001b[0;34m:\u001b[0m \u001b[0mint\u001b[0m\u001b[0;34m\u001b[0m\n",
       "\u001b[0;34m\u001b[0m    \u001b[0malignment\u001b[0m\u001b[0;34m:\u001b[0m \u001b[0mAlignment\u001b[0m\u001b[0;34m\u001b[0m\n",
       "\u001b[0;34m\u001b[0m\u001b[0;34m\u001b[0m\n",
       "\u001b[0;34m\u001b[0m\u001b[0;34m\u001b[0m\n",
       "\u001b[0;34m\u001b[0m\u001b[0;32mclass\u001b[0m \u001b[0mQuestGiver\u001b[0m\u001b[0;34m(\u001b[0m\u001b[0mBaseModel\u001b[0m\u001b[0;34m)\u001b[0m\u001b[0;34m:\u001b[0m\u001b[0;34m\u001b[0m\n",
       "\u001b[0;34m\u001b[0m    \u001b[0;34m\"\"\"A person who offers a task that needs completing.\u001b[0m\n",
       "\u001b[0;34m\u001b[0m\n",
       "\u001b[0;34m    Attributes:\u001b[0m\n",
       "\u001b[0;34m        name (str): Name of this quest giver\u001b[0m\n",
       "\u001b[0;34m        faction (str): Faction that this quest giver belongs to\u001b[0m\n",
       "\u001b[0;34m        location (str): Location this quest giver can be found\u001b[0m\n",
       "\u001b[0;34m    \"\"\"\u001b[0m\u001b[0;34m\u001b[0m\n",
       "\u001b[0;34m\u001b[0m\u001b[0;34m\u001b[0m\n",
       "\u001b[0;34m\u001b[0m    \u001b[0mname\u001b[0m\u001b[0;34m:\u001b[0m \u001b[0mstr\u001b[0m\u001b[0;34m\u001b[0m\n",
       "\u001b[0;34m\u001b[0m    \u001b[0mfaction\u001b[0m\u001b[0;34m:\u001b[0m \u001b[0mOptional\u001b[0m\u001b[0;34m[\u001b[0m\u001b[0mstr\u001b[0m\u001b[0;34m]\u001b[0m\u001b[0;34m\u001b[0m\n",
       "\u001b[0;34m\u001b[0m    \u001b[0mlocation\u001b[0m\u001b[0;34m:\u001b[0m \u001b[0mstr\u001b[0m\u001b[0;34m\u001b[0m\n",
       "\u001b[0;34m\u001b[0m\u001b[0;34m\u001b[0m\n",
       "\u001b[0;34m\u001b[0m\u001b[0;34m\u001b[0m\n",
       "\u001b[0;34m\u001b[0m\u001b[0;32mclass\u001b[0m \u001b[0mQuest\u001b[0m\u001b[0;34m(\u001b[0m\u001b[0mBaseModel\u001b[0m\u001b[0;34m)\u001b[0m\u001b[0;34m:\u001b[0m\u001b[0;34m\u001b[0m\n",
       "\u001b[0;34m\u001b[0m    \u001b[0;34m\"\"\"A task to complete, with some monetary reward.\u001b[0m\n",
       "\u001b[0;34m\u001b[0m\n",
       "\u001b[0;34m    Attributes:\u001b[0m\n",
       "\u001b[0;34m        name (str): Name by which this quest is referred to\u001b[0m\n",
       "\u001b[0;34m        giver (QuestGiver): Person who offered the quest\u001b[0m\n",
       "\u001b[0;34m        reward_gold (int): Amount of gold to be rewarded for quest completion\u001b[0m\n",
       "\u001b[0;34m    \"\"\"\u001b[0m\u001b[0;34m\u001b[0m\n",
       "\u001b[0;34m\u001b[0m\u001b[0;34m\u001b[0m\n",
       "\u001b[0;34m\u001b[0m    \u001b[0mname\u001b[0m\u001b[0;34m:\u001b[0m \u001b[0mstr\u001b[0m\u001b[0;34m\u001b[0m\n",
       "\u001b[0;34m\u001b[0m    \u001b[0mgiver\u001b[0m\u001b[0;34m:\u001b[0m \u001b[0mQuestGiver\u001b[0m\u001b[0;34m\u001b[0m\n",
       "\u001b[0;34m\u001b[0m    \u001b[0mreward_gold\u001b[0m\u001b[0;34m:\u001b[0m \u001b[0mint\u001b[0m\u001b[0;34m\u001b[0m\n",
       "\u001b[0;34m\u001b[0m\u001b[0;34m\u001b[0m\n",
       "\u001b[0;34m\u001b[0m\u001b[0;34m\u001b[0m\n",
       "\u001b[0;34m\u001b[0m\u001b[0;32mclass\u001b[0m \u001b[0mParty\u001b[0m\u001b[0;34m(\u001b[0m\u001b[0mBaseModel\u001b[0m\u001b[0;34m)\u001b[0m\u001b[0;34m:\u001b[0m\u001b[0;34m\u001b[0m\n",
       "\u001b[0;34m\u001b[0m    \u001b[0;34m\"\"\"A group of adventurers finding themselves doing and saying things altogether unexpected.\u001b[0m\n",
       "\u001b[0;34m\u001b[0m\n",
       "\u001b[0;34m    Attributes:\u001b[0m\n",
       "\u001b[0;34m        name (str): Name that party is known by\u001b[0m\n",
       "\u001b[0;34m        formed_datetime (datetime): Timestamp of when the party was formed\u001b[0m\n",
       "\u001b[0;34m        members (List[Adventurer]): Adventurers that belong to this party\u001b[0m\n",
       "\u001b[0;34m        active_quest (Optional[Quest]): Current quest that party is actively tackling\u001b[0m\n",
       "\u001b[0;34m    \"\"\"\u001b[0m\u001b[0;34m\u001b[0m\n",
       "\u001b[0;34m\u001b[0m\u001b[0;34m\u001b[0m\n",
       "\u001b[0;34m\u001b[0m    \u001b[0mname\u001b[0m\u001b[0;34m:\u001b[0m \u001b[0mstr\u001b[0m\u001b[0;34m\u001b[0m\n",
       "\u001b[0;34m\u001b[0m    \u001b[0mformed_datetime\u001b[0m\u001b[0;34m:\u001b[0m \u001b[0mdatetime\u001b[0m\u001b[0;34m\u001b[0m\n",
       "\u001b[0;34m\u001b[0m    \u001b[0mmembers\u001b[0m\u001b[0;34m:\u001b[0m \u001b[0mList\u001b[0m\u001b[0;34m[\u001b[0m\u001b[0mAdventurer\u001b[0m\u001b[0;34m]\u001b[0m\u001b[0;34m\u001b[0m\n",
       "\u001b[0;34m\u001b[0m    \u001b[0mactive_quest\u001b[0m\u001b[0;34m:\u001b[0m \u001b[0mOptional\u001b[0m\u001b[0;34m[\u001b[0m\u001b[0mQuest\u001b[0m\u001b[0;34m]\u001b[0m\u001b[0;34m\u001b[0m\u001b[0;34m\u001b[0m\u001b[0m\n"
      ]
     },
     "metadata": {},
     "output_type": "display_data"
    }
   ],
   "source": [
    "import erdantic.examples.pydantic\n",
    "??erdantic.examples.pydantic"
   ]
  },
  {
   "cell_type": "markdown",
   "id": "employed-kitty",
   "metadata": {},
   "source": [
    "## Using the CLI\n",
    "\n",
    "The fastest way to rendering a diagram is to use the command-line interface. Below we use IPython's `!` to run a command in the system shell. We pass the full dotted path to the root class of our composition hierarchy, along with an output file path. erdantic will walk the composition graph to find all child classes. "
   ]
  },
  {
   "cell_type": "code",
   "execution_count": 2,
   "id": "large-stone",
   "metadata": {},
   "outputs": [
    {
     "name": "stdout",
     "output_type": "stream",
     "text": [
      "Rendered diagram to diagram.png\n"
     ]
    }
   ],
   "source": [
    "!erdantic erdantic.examples.pydantic.Party -o diagram.png"
   ]
  },
  {
   "cell_type": "markdown",
   "id": "disabled-christian",
   "metadata": {},
   "source": [
    "The format rendered is inferred from the file extension."
   ]
  },
  {
   "cell_type": "markdown",
   "id": "progressive-backup",
   "metadata": {},
   "source": [
    "## Using the Python library\n",
    "\n",
    "You can also use the erdantic Python library, which lets you inspect the diagram object. The diagram object even automatically renders in Jupyter notebooks as demonstrated below. "
   ]
  },
  {
   "cell_type": "code",
   "execution_count": null,
   "id": "resistant-cookie",
   "metadata": {},
   "outputs": [],
   "source": [
    "import erdantic as erd\n",
    "from erdantic.examples.pydantic import Party\n",
    "\n",
    "\n",
    "diagram = erd.create(Party)\n",
    "diagram"
   ]
  },
  {
   "cell_type": "code",
   "execution_count": null,
   "id": "tropical-morocco",
   "metadata": {},
   "outputs": [],
   "source": [
    "diagram.models"
   ]
  },
  {
   "cell_type": "code",
   "execution_count": null,
   "id": "impossible-night",
   "metadata": {},
   "outputs": [],
   "source": [
    "diagram.edges"
   ]
  },
  {
   "cell_type": "markdown",
   "id": "becoming-space",
   "metadata": {},
   "source": [
    "You can use the `draw` method to render the diagram to disk."
   ]
  },
  {
   "cell_type": "code",
   "execution_count": null,
   "id": "wired-department",
   "metadata": {},
   "outputs": [],
   "source": [
    "diagram.draw(\"pydantic.svg\")\n",
    "\n",
    "# Equivalently, use erd.draw directly from Party\n",
    "# erd.draw(Party, out=\"pydantic.svg\")"
   ]
  },
  {
   "cell_type": "markdown",
   "id": "stylish-spanish",
   "metadata": {},
   "source": [
    "erdantic uses [Graphviz](https://graphviz.org/), a venerable open-source C library, to create the diagram. Graphviz uses the [DOT language](https://graphviz.org/doc/info/lang.html) for describing graphs. You use the `to_dot` method to get the DOT representation as a string. "
   ]
  },
  {
   "cell_type": "code",
   "execution_count": null,
   "id": "aggressive-worry",
   "metadata": {},
   "outputs": [],
   "source": [
    "print(diagram.to_dot())\n",
    "\n",
    "# Equivalently, use erd.to_dot directly from Party\n",
    "assert diagram.to_dot() == erd.to_dot(Party)"
   ]
  }
 ],
 "metadata": {
  "kernelspec": {
   "display_name": "Python 3",
   "language": "python",
   "name": "python3"
  },
  "language_info": {
   "codemirror_mode": {
    "name": "ipython",
    "version": 3
   },
   "file_extension": ".py",
   "mimetype": "text/x-python",
   "name": "python",
   "nbconvert_exporter": "python",
   "pygments_lexer": "ipython3",
   "version": "3.8.6"
  }
 },
 "nbformat": 4,
 "nbformat_minor": 5
}
