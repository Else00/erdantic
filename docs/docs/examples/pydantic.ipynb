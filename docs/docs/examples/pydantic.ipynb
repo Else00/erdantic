{
 "cells": [
  {
   "cell_type": "markdown",
   "id": "possible-postage",
   "metadata": {},
   "source": [
    "# Usage Example: Pydantic\n",
    "\n",
    "This notebook shows an example of using erdantic with [Pydantic](https://pydantic-docs.helpmanual.io/) models.\n",
    "\n",
    "Let's take a look at the models from the `erdantic.examples.pydantic` module. Here's their source code for clariy."
   ]
  },
  {
   "cell_type": "code",
   "execution_count": 1,
   "id": "greek-multiple",
   "metadata": {},
   "outputs": [
    {
     "data": {
      "text/plain": [
       "\u001b[0;31mType:\u001b[0m        module\n",
       "\u001b[0;31mString form:\u001b[0m <module 'erdantic.examples.pydantic' from '/Users/jqi/repos/erdantic/erdantic/examples/pydantic.py'>\n",
       "\u001b[0;31mFile:\u001b[0m        ~/repos/erdantic/erdantic/examples/pydantic.py\n",
       "\u001b[0;31mSource:\u001b[0m     \n",
       "\u001b[0;34m\"\"\"Example data model classes using [Pydantic](https://pydantic-docs.helpmanual.io/).\"\"\"\u001b[0m\u001b[0;34m\u001b[0m\n",
       "\u001b[0;34m\u001b[0m\u001b[0;34m\u001b[0m\n",
       "\u001b[0;34m\u001b[0m\u001b[0;32mfrom\u001b[0m \u001b[0mdatetime\u001b[0m \u001b[0;32mimport\u001b[0m \u001b[0mdatetime\u001b[0m\u001b[0;34m\u001b[0m\n",
       "\u001b[0;34m\u001b[0m\u001b[0;32mfrom\u001b[0m \u001b[0menum\u001b[0m \u001b[0;32mimport\u001b[0m \u001b[0mEnum\u001b[0m\u001b[0;34m\u001b[0m\n",
       "\u001b[0;34m\u001b[0m\u001b[0;32mfrom\u001b[0m \u001b[0mtyping\u001b[0m \u001b[0;32mimport\u001b[0m \u001b[0mList\u001b[0m\u001b[0;34m,\u001b[0m \u001b[0mOptional\u001b[0m\u001b[0;34m\u001b[0m\n",
       "\u001b[0;34m\u001b[0m\u001b[0;34m\u001b[0m\n",
       "\u001b[0;34m\u001b[0m\u001b[0;32mfrom\u001b[0m \u001b[0mpydantic\u001b[0m \u001b[0;32mimport\u001b[0m \u001b[0mBaseModel\u001b[0m\u001b[0;34m\u001b[0m\n",
       "\u001b[0;34m\u001b[0m\u001b[0;34m\u001b[0m\n",
       "\u001b[0;34m\u001b[0m\u001b[0;34m\u001b[0m\n",
       "\u001b[0;34m\u001b[0m\u001b[0;32mclass\u001b[0m \u001b[0mAlignment\u001b[0m\u001b[0;34m(\u001b[0m\u001b[0mstr\u001b[0m\u001b[0;34m,\u001b[0m \u001b[0mEnum\u001b[0m\u001b[0;34m)\u001b[0m\u001b[0;34m:\u001b[0m\u001b[0;34m\u001b[0m\n",
       "\u001b[0;34m\u001b[0m    \u001b[0mLAWFUL_GOOD\u001b[0m \u001b[0;34m=\u001b[0m \u001b[0;34m\"lawful_good\"\u001b[0m\u001b[0;34m\u001b[0m\n",
       "\u001b[0;34m\u001b[0m    \u001b[0mNEUTRAL_GOOD\u001b[0m \u001b[0;34m=\u001b[0m \u001b[0;34m\"neutral_good\"\u001b[0m\u001b[0;34m\u001b[0m\n",
       "\u001b[0;34m\u001b[0m    \u001b[0mCHAOTIC_GOOD\u001b[0m \u001b[0;34m=\u001b[0m \u001b[0;34m\"chaotic_good\"\u001b[0m\u001b[0;34m\u001b[0m\n",
       "\u001b[0;34m\u001b[0m    \u001b[0mLAWFUL_NEUTRAL\u001b[0m \u001b[0;34m=\u001b[0m \u001b[0;34m\"lawful_neutral\"\u001b[0m\u001b[0;34m\u001b[0m\n",
       "\u001b[0;34m\u001b[0m    \u001b[0mTRUE_NEUTRAL\u001b[0m \u001b[0;34m=\u001b[0m \u001b[0;34m\"true_neutral\"\u001b[0m\u001b[0;34m\u001b[0m\n",
       "\u001b[0;34m\u001b[0m    \u001b[0mCHAOTIC_NEUTRAL\u001b[0m \u001b[0;34m=\u001b[0m \u001b[0;34m\"chaotic_neutral\"\u001b[0m\u001b[0;34m\u001b[0m\n",
       "\u001b[0;34m\u001b[0m    \u001b[0mLAWFUL_EVIL\u001b[0m \u001b[0;34m=\u001b[0m \u001b[0;34m\"lawful_evil\"\u001b[0m\u001b[0;34m\u001b[0m\n",
       "\u001b[0;34m\u001b[0m    \u001b[0mNEUTRAL_EVIL\u001b[0m \u001b[0;34m=\u001b[0m \u001b[0;34m\"neutral_evil\"\u001b[0m\u001b[0;34m\u001b[0m\n",
       "\u001b[0;34m\u001b[0m    \u001b[0mCHAOTIC_EVIL\u001b[0m \u001b[0;34m=\u001b[0m \u001b[0;34m\"chaotic_evil\"\u001b[0m\u001b[0;34m\u001b[0m\n",
       "\u001b[0;34m\u001b[0m\u001b[0;34m\u001b[0m\n",
       "\u001b[0;34m\u001b[0m\u001b[0;34m\u001b[0m\n",
       "\u001b[0;34m\u001b[0m\u001b[0;32mclass\u001b[0m \u001b[0mAdventurer\u001b[0m\u001b[0;34m(\u001b[0m\u001b[0mBaseModel\u001b[0m\u001b[0;34m)\u001b[0m\u001b[0;34m:\u001b[0m\u001b[0;34m\u001b[0m\n",
       "\u001b[0;34m\u001b[0m    \u001b[0;34m\"\"\"A person often late for dinner but with a tale or two to tell.\u001b[0m\n",
       "\u001b[0;34m\u001b[0m\n",
       "\u001b[0;34m    Attributes:\u001b[0m\n",
       "\u001b[0;34m        name (str): Name of this adventurer\u001b[0m\n",
       "\u001b[0;34m        profession (str): Profession of this adventurer\u001b[0m\n",
       "\u001b[0;34m        level (int): Level of this adventurer\u001b[0m\n",
       "\u001b[0;34m        alignment (Alignment): Alignment of this adventurer\u001b[0m\n",
       "\u001b[0;34m    \"\"\"\u001b[0m\u001b[0;34m\u001b[0m\n",
       "\u001b[0;34m\u001b[0m\u001b[0;34m\u001b[0m\n",
       "\u001b[0;34m\u001b[0m    \u001b[0mname\u001b[0m\u001b[0;34m:\u001b[0m \u001b[0mstr\u001b[0m\u001b[0;34m\u001b[0m\n",
       "\u001b[0;34m\u001b[0m    \u001b[0mprofession\u001b[0m\u001b[0;34m:\u001b[0m \u001b[0mstr\u001b[0m\u001b[0;34m\u001b[0m\n",
       "\u001b[0;34m\u001b[0m    \u001b[0mlevel\u001b[0m\u001b[0;34m:\u001b[0m \u001b[0mint\u001b[0m\u001b[0;34m\u001b[0m\n",
       "\u001b[0;34m\u001b[0m    \u001b[0malignment\u001b[0m\u001b[0;34m:\u001b[0m \u001b[0mAlignment\u001b[0m\u001b[0;34m\u001b[0m\n",
       "\u001b[0;34m\u001b[0m\u001b[0;34m\u001b[0m\n",
       "\u001b[0;34m\u001b[0m\u001b[0;34m\u001b[0m\n",
       "\u001b[0;34m\u001b[0m\u001b[0;32mclass\u001b[0m \u001b[0mQuestGiver\u001b[0m\u001b[0;34m(\u001b[0m\u001b[0mBaseModel\u001b[0m\u001b[0;34m)\u001b[0m\u001b[0;34m:\u001b[0m\u001b[0;34m\u001b[0m\n",
       "\u001b[0;34m\u001b[0m    \u001b[0;34m\"\"\"A person who offers a task that needs completing.\u001b[0m\n",
       "\u001b[0;34m\u001b[0m\n",
       "\u001b[0;34m    Attributes:\u001b[0m\n",
       "\u001b[0;34m        name (str): Name of this quest giver\u001b[0m\n",
       "\u001b[0;34m        faction (str): Faction that this quest giver belongs to\u001b[0m\n",
       "\u001b[0;34m        location (str): Location this quest giver can be found\u001b[0m\n",
       "\u001b[0;34m    \"\"\"\u001b[0m\u001b[0;34m\u001b[0m\n",
       "\u001b[0;34m\u001b[0m\u001b[0;34m\u001b[0m\n",
       "\u001b[0;34m\u001b[0m    \u001b[0mname\u001b[0m\u001b[0;34m:\u001b[0m \u001b[0mstr\u001b[0m\u001b[0;34m\u001b[0m\n",
       "\u001b[0;34m\u001b[0m    \u001b[0mfaction\u001b[0m\u001b[0;34m:\u001b[0m \u001b[0mOptional\u001b[0m\u001b[0;34m[\u001b[0m\u001b[0mstr\u001b[0m\u001b[0;34m]\u001b[0m\u001b[0;34m\u001b[0m\n",
       "\u001b[0;34m\u001b[0m    \u001b[0mlocation\u001b[0m\u001b[0;34m:\u001b[0m \u001b[0mstr\u001b[0m\u001b[0;34m\u001b[0m\n",
       "\u001b[0;34m\u001b[0m\u001b[0;34m\u001b[0m\n",
       "\u001b[0;34m\u001b[0m\u001b[0;34m\u001b[0m\n",
       "\u001b[0;34m\u001b[0m\u001b[0;32mclass\u001b[0m \u001b[0mQuest\u001b[0m\u001b[0;34m(\u001b[0m\u001b[0mBaseModel\u001b[0m\u001b[0;34m)\u001b[0m\u001b[0;34m:\u001b[0m\u001b[0;34m\u001b[0m\n",
       "\u001b[0;34m\u001b[0m    \u001b[0;34m\"\"\"A task to complete, with some monetary reward.\u001b[0m\n",
       "\u001b[0;34m\u001b[0m\n",
       "\u001b[0;34m    Attributes:\u001b[0m\n",
       "\u001b[0;34m        name (str): Name by which this quest is referred to\u001b[0m\n",
       "\u001b[0;34m        giver (QuestGiver): Person who offered the quest\u001b[0m\n",
       "\u001b[0;34m        reward_gold (int): Amount of gold to be rewarded for quest completion\u001b[0m\n",
       "\u001b[0;34m    \"\"\"\u001b[0m\u001b[0;34m\u001b[0m\n",
       "\u001b[0;34m\u001b[0m\u001b[0;34m\u001b[0m\n",
       "\u001b[0;34m\u001b[0m    \u001b[0mname\u001b[0m\u001b[0;34m:\u001b[0m \u001b[0mstr\u001b[0m\u001b[0;34m\u001b[0m\n",
       "\u001b[0;34m\u001b[0m    \u001b[0mgiver\u001b[0m\u001b[0;34m:\u001b[0m \u001b[0mQuestGiver\u001b[0m\u001b[0;34m\u001b[0m\n",
       "\u001b[0;34m\u001b[0m    \u001b[0mreward_gold\u001b[0m\u001b[0;34m:\u001b[0m \u001b[0mint\u001b[0m\u001b[0;34m\u001b[0m\n",
       "\u001b[0;34m\u001b[0m\u001b[0;34m\u001b[0m\n",
       "\u001b[0;34m\u001b[0m\u001b[0;34m\u001b[0m\n",
       "\u001b[0;34m\u001b[0m\u001b[0;32mclass\u001b[0m \u001b[0mParty\u001b[0m\u001b[0;34m(\u001b[0m\u001b[0mBaseModel\u001b[0m\u001b[0;34m)\u001b[0m\u001b[0;34m:\u001b[0m\u001b[0;34m\u001b[0m\n",
       "\u001b[0;34m\u001b[0m    \u001b[0;34m\"\"\"A group of adventurers finding themselves doing and saying things altogether unexpected.\u001b[0m\n",
       "\u001b[0;34m\u001b[0m\n",
       "\u001b[0;34m    Attributes:\u001b[0m\n",
       "\u001b[0;34m        name (str): Name that party is known by\u001b[0m\n",
       "\u001b[0;34m        formed_datetime (datetime): Timestamp of when the party was formed\u001b[0m\n",
       "\u001b[0;34m        members (List[Adventurer]): Adventurers that belong to this party\u001b[0m\n",
       "\u001b[0;34m        active_quest (Optional[Quest]): Current quest that party is actively tackling\u001b[0m\n",
       "\u001b[0;34m    \"\"\"\u001b[0m\u001b[0;34m\u001b[0m\n",
       "\u001b[0;34m\u001b[0m\u001b[0;34m\u001b[0m\n",
       "\u001b[0;34m\u001b[0m    \u001b[0mname\u001b[0m\u001b[0;34m:\u001b[0m \u001b[0mstr\u001b[0m\u001b[0;34m\u001b[0m\n",
       "\u001b[0;34m\u001b[0m    \u001b[0mformed_datetime\u001b[0m\u001b[0;34m:\u001b[0m \u001b[0mdatetime\u001b[0m\u001b[0;34m\u001b[0m\n",
       "\u001b[0;34m\u001b[0m    \u001b[0mmembers\u001b[0m\u001b[0;34m:\u001b[0m \u001b[0mList\u001b[0m\u001b[0;34m[\u001b[0m\u001b[0mAdventurer\u001b[0m\u001b[0;34m]\u001b[0m\u001b[0;34m\u001b[0m\n",
       "\u001b[0;34m\u001b[0m    \u001b[0mactive_quest\u001b[0m\u001b[0;34m:\u001b[0m \u001b[0mOptional\u001b[0m\u001b[0;34m[\u001b[0m\u001b[0mQuest\u001b[0m\u001b[0;34m]\u001b[0m\u001b[0;34m\u001b[0m\u001b[0;34m\u001b[0m\u001b[0m\n"
      ]
     },
     "metadata": {},
     "output_type": "display_data"
    }
   ],
   "source": [
    "import erdantic.examples.pydantic\n",
    "??erdantic.examples.pydantic"
   ]
  },
  {
   "cell_type": "markdown",
   "id": "radio-produce",
   "metadata": {},
   "source": [
    "## Using the CLI\n",
    "\n",
    "The fastest way to rendering a diagram is to use the command-line interface. Below we use IPython's `!` to run a command in the system shell. We pass the full dotted path to the root class of our composition hierarchy. erdantic will walk the composition graph to find all child classes. "
   ]
  },
  {
   "cell_type": "code",
   "execution_count": 2,
   "id": "convertible-burner",
   "metadata": {},
   "outputs": [
    {
     "name": "stdout",
     "output_type": "stream",
     "text": [
      "Rendered diagram to diagram.png\n"
     ]
    }
   ],
   "source": [
    "!erdantic erdantic.examples.pydantic.Party "
   ]
  },
  {
   "cell_type": "markdown",
   "id": "portuguese-volunteer",
   "metadata": {},
   "source": [
    "You can use the `-o` option to specify an output path instead of the default, which also lets you control the rendered format via the file extension."
   ]
  },
  {
   "cell_type": "markdown",
   "id": "portuguese-handling",
   "metadata": {},
   "source": [
    "## Using the Python library\n",
    "\n",
    "You can also use the erdantic Python library, which lets you inspect the diagram object. The diagram object even automatically renders in Jupyter notebooks as demonstrated below. "
   ]
  },
  {
   "cell_type": "code",
   "execution_count": 3,
   "id": "loved-grill",
   "metadata": {},
   "outputs": [
    {
     "data": {
      "image/png": "[encoded data removed]",
      "image/svg+xml": [
       "<?xml version=\"1.0\" encoding=\"UTF-8\" standalone=\"no\"?>\n",
       "<!DOCTYPE svg PUBLIC \"-//W3C//DTD SVG 1.1//EN\"\n",
       " \"http://www.w3.org/Graphics/SVG/1.1/DTD/svg11.dtd\">\n",
       "<!-- Generated by graphviz version 2.46.0 (20210118.1747)\n",
       " -->\n",
       "<!-- Title: Entity Relationship Diagram Pages: 1 -->\n",
       "<svg width=\"657pt\" height=\"299pt\"\n",
       " viewBox=\"0.00 0.00 657.00 298.50\" xmlns=\"http://www.w3.org/2000/svg\" xmlns:xlink=\"http://www.w3.org/1999/xlink\">\n",
       "<g id=\"graph0\" class=\"graph\" transform=\"scale(1 1) rotate(0) translate(4 294.5)\">\n",
       "<title>Entity Relationship Diagram</title>\n",
       "<polygon fill=\"white\" stroke=\"transparent\" points=\"-4,4 -4,-294.5 653,-294.5 653,4 -4,4\"/>\n",
       "<text text-anchor=\"middle\" x=\"324.5\" y=\"-6.8\" font-family=\"Times,serif\" font-size=\"9.00\" fill=\"#a8a8a8\">Created by erdantic v0.1.0 &lt;https://github.com/drivendataorg/erdantic&gt;</text>\n",
       "<!-- Adventurer -->\n",
       "<g id=\"node1\" class=\"node\">\n",
       "<title>Adventurer</title>\n",
       "<g id=\"a_node1\"><a xlink:title=\"erdantic.examples.pydantic.Adventurer&#10;&#10;A person often late for dinner but with a tale or two to tell.&#10;&#10;Attributes:&#10; &#160;&#160;&#160;name (str): Name of this adventurer&#10; &#160;&#160;&#160;profession (str): Profession of this adventurer&#10; &#160;&#160;&#160;level (int): Level of this adventurer&#10; &#160;&#160;&#160;alignment (Alignment): Alignment of this adventurer\">\n",
       "<polygon fill=\"none\" stroke=\"black\" points=\"276,-265 276,-286 466,-286 466,-265 276,-265\"/>\n",
       "<text text-anchor=\"start\" x=\"337\" y=\"-272.8\" font-family=\"Times,serif\" font-weight=\"bold\" font-size=\"14.00\">Adventurer</text>\n",
       "<polygon fill=\"none\" stroke=\"black\" points=\"276,-244 276,-265 339,-265 339,-244 276,-244\"/>\n",
       "<text text-anchor=\"start\" x=\"292\" y=\"-250.8\" font-family=\"Times,serif\" font-size=\"14.00\">name</text>\n",
       "<polygon fill=\"none\" stroke=\"black\" points=\"339,-244 339,-265 466,-265 466,-244 339,-244\"/>\n",
       "<text text-anchor=\"start\" x=\"395.5\" y=\"-250.8\" font-family=\"Times,serif\" font-size=\"14.00\">str</text>\n",
       "<polygon fill=\"none\" stroke=\"black\" points=\"276,-223 276,-244 339,-244 339,-223 276,-223\"/>\n",
       "<text text-anchor=\"start\" x=\"279\" y=\"-229.8\" font-family=\"Times,serif\" font-size=\"14.00\">profession</text>\n",
       "<polygon fill=\"none\" stroke=\"black\" points=\"339,-223 339,-244 466,-244 466,-223 339,-223\"/>\n",
       "<text text-anchor=\"start\" x=\"395.5\" y=\"-229.8\" font-family=\"Times,serif\" font-size=\"14.00\">str</text>\n",
       "<polygon fill=\"none\" stroke=\"black\" points=\"276,-202 276,-223 339,-223 339,-202 276,-202\"/>\n",
       "<text text-anchor=\"start\" x=\"294\" y=\"-208.8\" font-family=\"Times,serif\" font-size=\"14.00\">level</text>\n",
       "<polygon fill=\"none\" stroke=\"black\" points=\"339,-202 339,-223 466,-223 466,-202 339,-202\"/>\n",
       "<text text-anchor=\"start\" x=\"395\" y=\"-208.8\" font-family=\"Times,serif\" font-size=\"14.00\">int</text>\n",
       "<polygon fill=\"none\" stroke=\"black\" points=\"276,-181 276,-202 339,-202 339,-181 276,-181\"/>\n",
       "<text text-anchor=\"start\" x=\"280\" y=\"-187.8\" font-family=\"Times,serif\" font-size=\"14.00\">alignment</text>\n",
       "<polygon fill=\"none\" stroke=\"black\" points=\"339,-181 339,-202 466,-202 466,-181 339,-181\"/>\n",
       "<text text-anchor=\"start\" x=\"342\" y=\"-187.8\" font-family=\"Times,serif\" font-size=\"14.00\">Alignment(str, Enum)</text>\n",
       "</a>\n",
       "</g>\n",
       "</g>\n",
       "<!-- Party -->\n",
       "<g id=\"node2\" class=\"node\">\n",
       "<title>Party</title>\n",
       "<g id=\"a_node2\"><a xlink:title=\"erdantic.examples.pydantic.Party&#10;&#10;A group of adventurers finding themselves doing and saying things altogether unexpected.&#10;&#10;Attributes:&#10; &#160;&#160;&#160;name (str): Name that party is known by&#10; &#160;&#160;&#160;formed_datetime (datetime): Timestamp of when the party was formed&#10; &#160;&#160;&#160;members (List[Adventurer]): Adventurers that belong to this party&#10; &#160;&#160;&#160;active_quest (Optional[Quest]): Current quest that party is actively tackling\">\n",
       "<polygon fill=\"none\" stroke=\"black\" points=\"0,-269 0,-290 168,-290 168,-269 0,-269\"/>\n",
       "<text text-anchor=\"start\" x=\"67.5\" y=\"-276.8\" font-family=\"Times,serif\" font-weight=\"bold\" font-size=\"14.00\">Party</text>\n",
       "<polygon fill=\"none\" stroke=\"black\" points=\"0,-248 0,-269 100,-269 100,-248 0,-248\"/>\n",
       "<text text-anchor=\"start\" x=\"34.5\" y=\"-254.8\" font-family=\"Times,serif\" font-size=\"14.00\">name</text>\n",
       "<polygon fill=\"none\" stroke=\"black\" points=\"100,-248 100,-269 168,-269 168,-248 100,-248\"/>\n",
       "<text text-anchor=\"start\" x=\"127\" y=\"-254.8\" font-family=\"Times,serif\" font-size=\"14.00\">str</text>\n",
       "<polygon fill=\"none\" stroke=\"black\" points=\"0,-227 0,-248 100,-248 100,-227 0,-227\"/>\n",
       "<text text-anchor=\"start\" x=\"3\" y=\"-233.8\" font-family=\"Times,serif\" font-size=\"14.00\">formed_datetime</text>\n",
       "<polygon fill=\"none\" stroke=\"black\" points=\"100,-227 100,-248 168,-248 168,-227 100,-227\"/>\n",
       "<text text-anchor=\"start\" x=\"110\" y=\"-233.8\" font-family=\"Times,serif\" font-size=\"14.00\">datetime</text>\n",
       "<polygon fill=\"none\" stroke=\"black\" points=\"0,-206 0,-227 100,-227 100,-206 0,-206\"/>\n",
       "<text text-anchor=\"start\" x=\"24\" y=\"-212.8\" font-family=\"Times,serif\" font-size=\"14.00\">members</text>\n",
       "<polygon fill=\"none\" stroke=\"black\" points=\"100,-206 100,-227 168,-227 168,-206 100,-206\"/>\n",
       "<text text-anchor=\"start\" x=\"103\" y=\"-212.8\" font-family=\"Times,serif\" font-size=\"14.00\">Adventurer</text>\n",
       "<polygon fill=\"none\" stroke=\"black\" points=\"0,-185 0,-206 100,-206 100,-185 0,-185\"/>\n",
       "<text text-anchor=\"start\" x=\"16\" y=\"-191.8\" font-family=\"Times,serif\" font-size=\"14.00\">active_quest</text>\n",
       "<polygon fill=\"none\" stroke=\"black\" points=\"100,-185 100,-206 168,-206 168,-185 100,-185\"/>\n",
       "<text text-anchor=\"start\" x=\"118\" y=\"-191.8\" font-family=\"Times,serif\" font-size=\"14.00\">Quest</text>\n",
       "</a>\n",
       "</g>\n",
       "</g>\n",
       "<!-- Party&#45;&gt;Adventurer -->\n",
       "<g id=\"edge1\" class=\"edge\">\n",
       "<title>Party:e&#45;&gt;Adventurer:w</title>\n",
       "<path fill=\"none\" stroke=\"black\" d=\"M168,-216C216.15,-216 220.68,-262.14 258.1,-273.5\"/>\n",
       "<polygon fill=\"black\" stroke=\"black\" points=\"266.1,-274.62 275.38,-280.46 271.05,-275.31 276,-276 276,-276 276,-276 271.05,-275.31 276.62,-271.54 266.1,-274.62 266.1,-274.62\"/>\n",
       "<ellipse fill=\"none\" stroke=\"black\" cx=\"262.13\" cy=\"-274.06\" rx=\"4\" ry=\"4\"/>\n",
       "</g>\n",
       "<!-- Quest -->\n",
       "<g id=\"node3\" class=\"node\">\n",
       "<title>Quest</title>\n",
       "<g id=\"a_node3\"><a xlink:title=\"erdantic.examples.pydantic.Quest&#10;&#10;A task to complete, with some monetary reward.&#10;&#10;Attributes:&#10; &#160;&#160;&#160;name (str): Name by which this quest is referred to&#10; &#160;&#160;&#160;giver (QuestGiver): Person who offered the quest&#10; &#160;&#160;&#160;reward_gold (int): Amount of gold to be rewarded for quest completion\">\n",
       "<polygon fill=\"none\" stroke=\"black\" points=\"299,-124 299,-145 443,-145 443,-124 299,-124\"/>\n",
       "<text text-anchor=\"start\" x=\"353.5\" y=\"-131.8\" font-family=\"Times,serif\" font-weight=\"bold\" font-size=\"14.00\">Quest</text>\n",
       "<polygon fill=\"none\" stroke=\"black\" points=\"299,-103 299,-124 374,-124 374,-103 299,-103\"/>\n",
       "<text text-anchor=\"start\" x=\"321\" y=\"-109.8\" font-family=\"Times,serif\" font-size=\"14.00\">name</text>\n",
       "<polygon fill=\"none\" stroke=\"black\" points=\"374,-103 374,-124 443,-124 443,-103 374,-103\"/>\n",
       "<text text-anchor=\"start\" x=\"401.5\" y=\"-109.8\" font-family=\"Times,serif\" font-size=\"14.00\">str</text>\n",
       "<polygon fill=\"none\" stroke=\"black\" points=\"299,-82 299,-103 374,-103 374,-82 299,-82\"/>\n",
       "<text text-anchor=\"start\" x=\"322.5\" y=\"-88.8\" font-family=\"Times,serif\" font-size=\"14.00\">giver</text>\n",
       "<polygon fill=\"none\" stroke=\"black\" points=\"374,-82 374,-103 443,-103 443,-82 374,-82\"/>\n",
       "<text text-anchor=\"start\" x=\"377\" y=\"-88.8\" font-family=\"Times,serif\" font-size=\"14.00\">QuestGiver</text>\n",
       "<polygon fill=\"none\" stroke=\"black\" points=\"299,-61 299,-82 374,-82 374,-61 299,-61\"/>\n",
       "<text text-anchor=\"start\" x=\"302\" y=\"-67.8\" font-family=\"Times,serif\" font-size=\"14.00\">reward_gold</text>\n",
       "<polygon fill=\"none\" stroke=\"black\" points=\"374,-61 374,-82 443,-82 443,-61 374,-61\"/>\n",
       "<text text-anchor=\"start\" x=\"401\" y=\"-67.8\" font-family=\"Times,serif\" font-size=\"14.00\">int</text>\n",
       "</a>\n",
       "</g>\n",
       "</g>\n",
       "<!-- Party&#45;&gt;Quest -->\n",
       "<g id=\"edge2\" class=\"edge\">\n",
       "<title>Party:e&#45;&gt;Quest:w</title>\n",
       "<path fill=\"none\" stroke=\"black\" d=\"M168,-195C225.05,-195 233.15,-146.78 280.06,-136.8\"/>\n",
       "<polyline fill=\"none\" stroke=\"black\" points=\"298,-135 293.02,-135.5 \"/>\n",
       "<polygon fill=\"black\" stroke=\"black\" points=\"291.53,-130.62 292.53,-140.57 290.54,-140.77 289.54,-130.82 291.53,-130.62\"/>\n",
       "<polyline fill=\"none\" stroke=\"black\" points=\"293.02,-135.5 288.05,-136 \"/>\n",
       "<ellipse fill=\"none\" stroke=\"black\" cx=\"284.07\" cy=\"-136.39\" rx=\"4\" ry=\"4\"/>\n",
       "</g>\n",
       "<!-- QuestGiver -->\n",
       "<g id=\"node4\" class=\"node\">\n",
       "<title>QuestGiver</title>\n",
       "<g id=\"a_node4\"><a xlink:title=\"erdantic.examples.pydantic.QuestGiver&#10;&#10;A person who offers a task that needs completing.&#10;&#10;Attributes:&#10; &#160;&#160;&#160;name (str): Name of this quest giver&#10; &#160;&#160;&#160;faction (str): Faction that this quest giver belongs to&#10; &#160;&#160;&#160;location (str): Location this quest giver can be found\">\n",
       "<polygon fill=\"none\" stroke=\"black\" points=\"574.5,-81 574.5,-102 649.5,-102 649.5,-81 574.5,-81\"/>\n",
       "<text text-anchor=\"start\" x=\"577.5\" y=\"-88.8\" font-family=\"Times,serif\" font-weight=\"bold\" font-size=\"14.00\">QuestGiver</text>\n",
       "<polygon fill=\"none\" stroke=\"black\" points=\"574.5,-60 574.5,-81 626.5,-81 626.5,-60 574.5,-60\"/>\n",
       "<text text-anchor=\"start\" x=\"585\" y=\"-66.8\" font-family=\"Times,serif\" font-size=\"14.00\">name</text>\n",
       "<polygon fill=\"none\" stroke=\"black\" points=\"626.5,-60 626.5,-81 649.5,-81 649.5,-60 626.5,-60\"/>\n",
       "<text text-anchor=\"start\" x=\"631\" y=\"-66.8\" font-family=\"Times,serif\" font-size=\"14.00\">str</text>\n",
       "<polygon fill=\"none\" stroke=\"black\" points=\"574.5,-39 574.5,-60 626.5,-60 626.5,-39 574.5,-39\"/>\n",
       "<text text-anchor=\"start\" x=\"581.5\" y=\"-45.8\" font-family=\"Times,serif\" font-size=\"14.00\">faction</text>\n",
       "<polygon fill=\"none\" stroke=\"black\" points=\"626.5,-39 626.5,-60 649.5,-60 649.5,-39 626.5,-39\"/>\n",
       "<text text-anchor=\"start\" x=\"631\" y=\"-45.8\" font-family=\"Times,serif\" font-size=\"14.00\">str</text>\n",
       "<polygon fill=\"none\" stroke=\"black\" points=\"574.5,-18 574.5,-39 626.5,-39 626.5,-18 574.5,-18\"/>\n",
       "<text text-anchor=\"start\" x=\"578.5\" y=\"-24.8\" font-family=\"Times,serif\" font-size=\"14.00\">location</text>\n",
       "<polygon fill=\"none\" stroke=\"black\" points=\"626.5,-18 626.5,-39 649.5,-39 649.5,-18 626.5,-18\"/>\n",
       "<text text-anchor=\"start\" x=\"631\" y=\"-24.8\" font-family=\"Times,serif\" font-size=\"14.00\">str</text>\n",
       "</a>\n",
       "</g>\n",
       "</g>\n",
       "<!-- Quest&#45;&gt;QuestGiver -->\n",
       "<g id=\"edge3\" class=\"edge\">\n",
       "<title>Quest:e&#45;&gt;QuestGiver:w</title>\n",
       "<path fill=\"none\" stroke=\"black\" d=\"M444,-92C496.36,-92 513.13,-92 558.82,-92\"/>\n",
       "<polyline fill=\"none\" stroke=\"black\" points=\"574,-92 569,-92 \"/>\n",
       "<polygon fill=\"black\" stroke=\"black\" points=\"568,-87 568,-97 566,-97 566,-87 568,-87\"/>\n",
       "<polyline fill=\"none\" stroke=\"black\" points=\"569,-92 564,-92 \"/>\n",
       "<polygon fill=\"black\" stroke=\"black\" points=\"563,-87 563,-97 561,-97 561,-87 563,-87\"/>\n",
       "<polyline fill=\"none\" stroke=\"black\" points=\"564,-92 559,-92 \"/>\n",
       "</g>\n",
       "</g>\n",
       "</svg>\n"
      ],
      "text/plain": [
       "EntityRelationshipDiagram(models=[PydanticModel(Adventurer), PydanticModel(Party), PydanticModel(Quest), PydanticModel(QuestGiver)], edges=[Edge(source=PydanticModel(Party), source_field=<PydanticField: 'members', Adventurer>, target=PydanticModel(Adventurer)), Edge(source=PydanticModel(Party), source_field=<PydanticField: 'active_quest', Quest>, target=PydanticModel(Quest)), Edge(source=PydanticModel(Quest), source_field=<PydanticField: 'giver', QuestGiver>, target=PydanticModel(QuestGiver))])"
      ]
     },
     "execution_count": 3,
     "metadata": {},
     "output_type": "execute_result"
    }
   ],
   "source": [
    "import erdantic as erd\n",
    "from erdantic.examples.pydantic import Party\n",
    "\n",
    "\n",
    "diagram = erd.create(Party)\n",
    "diagram"
   ]
  },
  {
   "cell_type": "code",
   "execution_count": 4,
   "id": "forty-shadow",
   "metadata": {},
   "outputs": [
    {
     "data": {
      "text/plain": [
       "[PydanticModel(Adventurer),\n",
       " PydanticModel(Party),\n",
       " PydanticModel(Quest),\n",
       " PydanticModel(QuestGiver)]"
      ]
     },
     "execution_count": 4,
     "metadata": {},
     "output_type": "execute_result"
    }
   ],
   "source": [
    "diagram.models"
   ]
  },
  {
   "cell_type": "code",
   "execution_count": 5,
   "id": "ready-eleven",
   "metadata": {},
   "outputs": [
    {
     "data": {
      "text/plain": [
       "[Edge(source=PydanticModel(Party), source_field=<PydanticField: 'members', Adventurer>, target=PydanticModel(Adventurer)),\n",
       " Edge(source=PydanticModel(Party), source_field=<PydanticField: 'active_quest', Quest>, target=PydanticModel(Quest)),\n",
       " Edge(source=PydanticModel(Quest), source_field=<PydanticField: 'giver', QuestGiver>, target=PydanticModel(QuestGiver))]"
      ]
     },
     "execution_count": 5,
     "metadata": {},
     "output_type": "execute_result"
    }
   ],
   "source": [
    "diagram.edges"
   ]
  },
  {
   "cell_type": "markdown",
   "id": "asian-significance",
   "metadata": {},
   "source": [
    "You can use the `draw` method to render the diagram to disk."
   ]
  },
  {
   "cell_type": "code",
   "execution_count": 6,
   "id": "healthy-trade",
   "metadata": {},
   "outputs": [],
   "source": [
    "diagram.draw(\"pydantic.svg\")\n",
    "\n",
    "# Equivalently, use erd.draw directly from Party\n",
    "# erd.draw(Party, out=\"pydantic.svg\")"
   ]
  },
  {
   "cell_type": "markdown",
   "id": "distributed-circumstances",
   "metadata": {},
   "source": [
    "erdantic uses [Graphviz](https://graphviz.org/), a venerable open-source C library, to create the diagram. Graphviz uses the [DOT language](https://graphviz.org/doc/info/lang.html) for describing graphs. You use the `to_dot` method to get the DOT representation as a string. "
   ]
  },
  {
   "cell_type": "code",
   "execution_count": 7,
   "id": "annual-bubble",
   "metadata": {},
   "outputs": [
    {
     "name": "stdout",
     "output_type": "stream",
     "text": [
      "digraph \"Entity Relationship Diagram\" {\n",
      "\tgraph [fontcolor=gray66,\n",
      "\t\tfontsize=9,\n",
      "\t\tlabel=\"Created by erdantic v0.1.0 <https://github.com/drivendataorg/erdantic>\",\n",
      "\t\tnodesep=0.5,\n",
      "\t\trankdir=LR,\n",
      "\t\tranksep=1.5\n",
      "\t];\n",
      "\tnode [fontsize=14,\n",
      "\t\tlabel=\"\\N\",\n",
      "\t\tshape=plain\n",
      "\t];\n",
      "\tAdventurer\t[label=<<table border=\"0\" cellborder=\"1\" cellspacing=\"0\"><tr><td port=\"_root\" colspan=\"2\"><b>Adventurer</b></td></tr><tr><td>name</td><td port=\"name\">str</td></tr><tr><td>profession</td><td port=\"profession\">str</td></tr><tr><td>level</td><td port=\"level\">int</td></tr><tr><td>alignment</td><td port=\"alignment\">Alignment(str, Enum)</td></tr></table>>,\n",
      "\t\ttooltip=\"erdantic.examples.pydantic.Adventurer&#xA;&#xA;A person often late for dinner but with a tale or two to tell.&#xA;&#xA;Attributes:&#\\\n",
      "xA;    name (str): Name of this adventurer&#xA;    profession (str): Profession of this adventurer&#xA;    level (int): Level of \\\n",
      "this adventurer&#xA;    alignment (Alignment): Alignment of this adventurer\"];\n",
      "\tParty\t[label=<<table border=\"0\" cellborder=\"1\" cellspacing=\"0\"><tr><td port=\"_root\" colspan=\"2\"><b>Party</b></td></tr><tr><td>name</td><td port=\"name\">str</td></tr><tr><td>formed_datetime</td><td port=\"formed_datetime\">datetime</td></tr><tr><td>members</td><td port=\"members\">Adventurer</td></tr><tr><td>active_quest</td><td port=\"active_quest\">Quest</td></tr></table>>,\n",
      "\t\ttooltip=\"erdantic.examples.pydantic.Party&#xA;&#xA;A group of adventurers finding themselves doing and saying things altogether unexpected.&#\\\n",
      "xA;&#xA;Attributes:&#xA;    name (str): Name that party is known by&#xA;    formed_datetime (datetime): Timestamp of when the party \\\n",
      "was formed&#xA;    members (List[Adventurer]): Adventurers that belong to this party&#xA;    active_quest (Optional[Quest]): Current \\\n",
      "quest that party is actively tackling\"];\n",
      "\tParty:members:e -> Adventurer:_root:w\t[arrowhead=crowodot];\n",
      "\tQuest\t[label=<<table border=\"0\" cellborder=\"1\" cellspacing=\"0\"><tr><td port=\"_root\" colspan=\"2\"><b>Quest</b></td></tr><tr><td>name</td><td port=\"name\">str</td></tr><tr><td>giver</td><td port=\"giver\">QuestGiver</td></tr><tr><td>reward_gold</td><td port=\"reward_gold\">int</td></tr></table>>,\n",
      "\t\ttooltip=\"erdantic.examples.pydantic.Quest&#xA;&#xA;A task to complete, with some monetary reward.&#xA;&#xA;Attributes:&#xA;    name (str): \\\n",
      "Name by which this quest is referred to&#xA;    giver (QuestGiver): Person who offered the quest&#xA;    reward_gold (int): Amount \\\n",
      "of gold to be rewarded for quest completion\"];\n",
      "\tParty:active_quest:e -> Quest:_root:w\t[arrowhead=noneteeodot];\n",
      "\tQuestGiver\t[label=<<table border=\"0\" cellborder=\"1\" cellspacing=\"0\"><tr><td port=\"_root\" colspan=\"2\"><b>QuestGiver</b></td></tr><tr><td>name</td><td port=\"name\">str</td></tr><tr><td>faction</td><td port=\"faction\">str</td></tr><tr><td>location</td><td port=\"location\">str</td></tr></table>>,\n",
      "\t\ttooltip=\"erdantic.examples.pydantic.QuestGiver&#xA;&#xA;A person who offers a task that needs completing.&#xA;&#xA;Attributes:&#xA;    name (\\\n",
      "str): Name of this quest giver&#xA;    faction (str): Faction that this quest giver belongs to&#xA;    location (str): Location \\\n",
      "this quest giver can be found\"];\n",
      "\tQuest:giver:e -> QuestGiver:_root:w\t[arrowhead=noneteetee];\n",
      "}\n",
      "\n"
     ]
    }
   ],
   "source": [
    "print(diagram.to_dot())\n",
    "\n",
    "# Equivalently, use erd.to_dot directly from Party\n",
    "assert diagram.to_dot() == erd.to_dot(Party)"
   ]
  }
 ],
 "metadata": {
  "kernelspec": {
   "display_name": "Python 3",
   "language": "python",
   "name": "python3"
  },
  "language_info": {
   "codemirror_mode": {
    "name": "ipython",
    "version": 3
   },
   "file_extension": ".py",
   "mimetype": "text/x-python",
   "name": "python",
   "nbconvert_exporter": "python",
   "pygments_lexer": "ipython3",
   "version": "3.8.6"
  }
 },
 "nbformat": 4,
 "nbformat_minor": 5
}
