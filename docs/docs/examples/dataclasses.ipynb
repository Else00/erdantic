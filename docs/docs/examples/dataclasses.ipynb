{
 "cells": [
  {
   "cell_type": "markdown",
   "id": "intellectual-coating",
   "metadata": {},
   "source": [
    "# Usage Example: dataclasses\n",
    "\n",
    "This notebook shows an example of using erdantic with the standard library's [dataclasses](https://docs.python.org/3/library/dataclasses.html) module.\n",
    "\n",
    "Let's take a look at the models from the `erdantic.examples.dataclasses` module. Here's their source code for clariy."
   ]
  },
  {
   "cell_type": "code",
   "execution_count": 1,
   "id": "integral-advisory",
   "metadata": {},
   "outputs": [
    {
     "data": {
      "text/plain": [
       "\u001b[0;31mType:\u001b[0m        module\n",
       "\u001b[0;31mString form:\u001b[0m <module 'erdantic.examples.dataclasses' from '/Users/jqi/repos/erdantic/erdantic/examples/dataclasses.py'>\n",
       "\u001b[0;31mFile:\u001b[0m        ~/repos/erdantic/erdantic/examples/dataclasses.py\n",
       "\u001b[0;31mSource:\u001b[0m     \n",
       "\u001b[0;34m\"\"\"Example data model classes using standard library's\u001b[0m\n",
       "\u001b[0;34m[`dataclasses`](https://docs.python.org/3/library/dataclasses.html) module.\"\"\"\u001b[0m\u001b[0;34m\u001b[0m\n",
       "\u001b[0;34m\u001b[0m\u001b[0;34m\u001b[0m\n",
       "\u001b[0;34m\u001b[0m\u001b[0;32mfrom\u001b[0m \u001b[0mdataclasses\u001b[0m \u001b[0;32mimport\u001b[0m \u001b[0mdataclass\u001b[0m\u001b[0;34m\u001b[0m\n",
       "\u001b[0;34m\u001b[0m\u001b[0;32mfrom\u001b[0m \u001b[0mdatetime\u001b[0m \u001b[0;32mimport\u001b[0m \u001b[0mdatetime\u001b[0m\u001b[0;34m\u001b[0m\n",
       "\u001b[0;34m\u001b[0m\u001b[0;32mfrom\u001b[0m \u001b[0mtyping\u001b[0m \u001b[0;32mimport\u001b[0m \u001b[0mList\u001b[0m\u001b[0;34m,\u001b[0m \u001b[0mOptional\u001b[0m\u001b[0;34m\u001b[0m\n",
       "\u001b[0;34m\u001b[0m\u001b[0;34m\u001b[0m\n",
       "\u001b[0;34m\u001b[0m\u001b[0;34m\u001b[0m\n",
       "\u001b[0;34m\u001b[0m\u001b[0;34m@\u001b[0m\u001b[0mdataclass\u001b[0m\u001b[0;34m\u001b[0m\n",
       "\u001b[0;34m\u001b[0m\u001b[0;32mclass\u001b[0m \u001b[0mAdventurer\u001b[0m\u001b[0;34m:\u001b[0m\u001b[0;34m\u001b[0m\n",
       "\u001b[0;34m\u001b[0m    \u001b[0;34m\"\"\"A person often late for dinner but with a tale or two to tell.\u001b[0m\n",
       "\u001b[0;34m\u001b[0m\n",
       "\u001b[0;34m    Attributes:\u001b[0m\n",
       "\u001b[0;34m        name (str): Name of this adventurer\u001b[0m\n",
       "\u001b[0;34m        profession (str): Profession of this adventurer\u001b[0m\n",
       "\u001b[0;34m        level (int): Level of this adventurer\u001b[0m\n",
       "\u001b[0;34m        alignment (int): Alignment of this adventurer\u001b[0m\n",
       "\u001b[0;34m    \"\"\"\u001b[0m\u001b[0;34m\u001b[0m\n",
       "\u001b[0;34m\u001b[0m\u001b[0;34m\u001b[0m\n",
       "\u001b[0;34m\u001b[0m    \u001b[0mname\u001b[0m\u001b[0;34m:\u001b[0m \u001b[0mstr\u001b[0m\u001b[0;34m\u001b[0m\n",
       "\u001b[0;34m\u001b[0m    \u001b[0mprofession\u001b[0m\u001b[0;34m:\u001b[0m \u001b[0mstr\u001b[0m\u001b[0;34m\u001b[0m\n",
       "\u001b[0;34m\u001b[0m    \u001b[0mlevel\u001b[0m\u001b[0;34m:\u001b[0m \u001b[0mint\u001b[0m\u001b[0;34m\u001b[0m\n",
       "\u001b[0;34m\u001b[0m    \u001b[0maffinity\u001b[0m\u001b[0;34m:\u001b[0m \u001b[0mstr\u001b[0m\u001b[0;34m\u001b[0m\n",
       "\u001b[0;34m\u001b[0m\u001b[0;34m\u001b[0m\n",
       "\u001b[0;34m\u001b[0m\u001b[0;34m\u001b[0m\n",
       "\u001b[0;34m\u001b[0m\u001b[0;34m@\u001b[0m\u001b[0mdataclass\u001b[0m\u001b[0;34m\u001b[0m\n",
       "\u001b[0;34m\u001b[0m\u001b[0;32mclass\u001b[0m \u001b[0mQuestGiver\u001b[0m\u001b[0;34m:\u001b[0m\u001b[0;34m\u001b[0m\n",
       "\u001b[0;34m\u001b[0m    \u001b[0;34m\"\"\"A person who offers a task that needs completing.\u001b[0m\n",
       "\u001b[0;34m\u001b[0m\n",
       "\u001b[0;34m    Attributes:\u001b[0m\n",
       "\u001b[0;34m        name (str): Name of this quest giver\u001b[0m\n",
       "\u001b[0;34m        faction (str): Faction that this quest giver belongs to\u001b[0m\n",
       "\u001b[0;34m        location (str): Location this quest giver can be found\u001b[0m\n",
       "\u001b[0;34m    \"\"\"\u001b[0m\u001b[0;34m\u001b[0m\n",
       "\u001b[0;34m\u001b[0m\u001b[0;34m\u001b[0m\n",
       "\u001b[0;34m\u001b[0m    \u001b[0mname\u001b[0m\u001b[0;34m:\u001b[0m \u001b[0mstr\u001b[0m\u001b[0;34m\u001b[0m\n",
       "\u001b[0;34m\u001b[0m    \u001b[0mfaction\u001b[0m\u001b[0;34m:\u001b[0m \u001b[0mOptional\u001b[0m\u001b[0;34m[\u001b[0m\u001b[0mstr\u001b[0m\u001b[0;34m]\u001b[0m\u001b[0;34m\u001b[0m\n",
       "\u001b[0;34m\u001b[0m    \u001b[0mlocation\u001b[0m\u001b[0;34m:\u001b[0m \u001b[0mstr\u001b[0m\u001b[0;34m\u001b[0m\n",
       "\u001b[0;34m\u001b[0m\u001b[0;34m\u001b[0m\n",
       "\u001b[0;34m\u001b[0m\u001b[0;34m\u001b[0m\n",
       "\u001b[0;34m\u001b[0m\u001b[0;34m@\u001b[0m\u001b[0mdataclass\u001b[0m\u001b[0;34m\u001b[0m\n",
       "\u001b[0;34m\u001b[0m\u001b[0;32mclass\u001b[0m \u001b[0mQuest\u001b[0m\u001b[0;34m:\u001b[0m\u001b[0;34m\u001b[0m\n",
       "\u001b[0;34m\u001b[0m    \u001b[0;34m\"\"\"A task to complete, with some monetary reward.\u001b[0m\n",
       "\u001b[0;34m\u001b[0m\n",
       "\u001b[0;34m    Attributes:\u001b[0m\n",
       "\u001b[0;34m        name (str): Name by which this quest is referred to\u001b[0m\n",
       "\u001b[0;34m        giver (QuestGiver): Person who offered the quest\u001b[0m\n",
       "\u001b[0;34m        reward_gold (int): Amount of gold to be rewarded for quest completion\u001b[0m\n",
       "\u001b[0;34m    \"\"\"\u001b[0m\u001b[0;34m\u001b[0m\n",
       "\u001b[0;34m\u001b[0m\u001b[0;34m\u001b[0m\n",
       "\u001b[0;34m\u001b[0m    \u001b[0mname\u001b[0m\u001b[0;34m:\u001b[0m \u001b[0mstr\u001b[0m\u001b[0;34m\u001b[0m\n",
       "\u001b[0;34m\u001b[0m    \u001b[0mgiver\u001b[0m\u001b[0;34m:\u001b[0m \u001b[0mQuestGiver\u001b[0m\u001b[0;34m\u001b[0m\n",
       "\u001b[0;34m\u001b[0m    \u001b[0mreward_gold\u001b[0m\u001b[0;34m:\u001b[0m \u001b[0mint\u001b[0m\u001b[0;34m\u001b[0m\n",
       "\u001b[0;34m\u001b[0m\u001b[0;34m\u001b[0m\n",
       "\u001b[0;34m\u001b[0m\u001b[0;34m\u001b[0m\n",
       "\u001b[0;34m\u001b[0m\u001b[0;34m@\u001b[0m\u001b[0mdataclass\u001b[0m\u001b[0;34m\u001b[0m\n",
       "\u001b[0;34m\u001b[0m\u001b[0;32mclass\u001b[0m \u001b[0mParty\u001b[0m\u001b[0;34m:\u001b[0m\u001b[0;34m\u001b[0m\n",
       "\u001b[0;34m\u001b[0m    \u001b[0;34m\"\"\"A group of adventurers finding themselves doing and saying things altogether unexpected.\u001b[0m\n",
       "\u001b[0;34m\u001b[0m\n",
       "\u001b[0;34m    Attributes:\u001b[0m\n",
       "\u001b[0;34m        name (str): Name that party is known by\u001b[0m\n",
       "\u001b[0;34m        formed_datetime (datetime): Timestamp of when the party was formed\u001b[0m\n",
       "\u001b[0;34m        members (List[Adventurer]): Adventurers that belong to this party\u001b[0m\n",
       "\u001b[0;34m        active_quest (Optional[Quest]): Current quest that party is actively tackling\u001b[0m\n",
       "\u001b[0;34m    \"\"\"\u001b[0m\u001b[0;34m\u001b[0m\n",
       "\u001b[0;34m\u001b[0m\u001b[0;34m\u001b[0m\n",
       "\u001b[0;34m\u001b[0m    \u001b[0mname\u001b[0m\u001b[0;34m:\u001b[0m \u001b[0mstr\u001b[0m\u001b[0;34m\u001b[0m\n",
       "\u001b[0;34m\u001b[0m    \u001b[0mformed_datetime\u001b[0m\u001b[0;34m:\u001b[0m \u001b[0mdatetime\u001b[0m\u001b[0;34m\u001b[0m\n",
       "\u001b[0;34m\u001b[0m    \u001b[0mmembers\u001b[0m\u001b[0;34m:\u001b[0m \u001b[0mList\u001b[0m\u001b[0;34m[\u001b[0m\u001b[0mAdventurer\u001b[0m\u001b[0;34m]\u001b[0m\u001b[0;34m\u001b[0m\n",
       "\u001b[0;34m\u001b[0m    \u001b[0mactive_quest\u001b[0m\u001b[0;34m:\u001b[0m \u001b[0mOptional\u001b[0m\u001b[0;34m[\u001b[0m\u001b[0mQuest\u001b[0m\u001b[0;34m]\u001b[0m\u001b[0;34m\u001b[0m\u001b[0;34m\u001b[0m\u001b[0m\n"
      ]
     },
     "metadata": {},
     "output_type": "display_data"
    }
   ],
   "source": [
    "import erdantic.examples.dataclasses\n",
    "??erdantic.examples.dataclasses"
   ]
  },
  {
   "cell_type": "markdown",
   "id": "certified-runner",
   "metadata": {},
   "source": [
    "## Using the CLI\n",
    "\n",
    "The fastest way to rendering a diagram is to use the command-line interface. Below we use IPython's `!` to run a command in the system shell. We pass the full dotted path to the root class of our composition hierarchy. erdantic will walk the composition graph to find all child classes. "
   ]
  },
  {
   "cell_type": "code",
   "execution_count": 2,
   "id": "stuck-program",
   "metadata": {},
   "outputs": [
    {
     "name": "stdout",
     "output_type": "stream",
     "text": [
      "Rendered diagram to diagram.png\n"
     ]
    }
   ],
   "source": [
    "!erdantic erdantic.examples.dataclasses.Party "
   ]
  },
  {
   "cell_type": "markdown",
   "id": "provincial-tourist",
   "metadata": {},
   "source": [
    "You can use the `-o` option to specify an output path instead of the default, which also lets you control the rendered format via the file extension."
   ]
  },
  {
   "cell_type": "markdown",
   "id": "sexual-essence",
   "metadata": {},
   "source": [
    "## Using the Python library\n",
    "\n",
    "You can also use the erdantic Python library, which lets you inspect the diagram object. The diagram object even automatically renders in Jupyter notebooks as demonstrated below. "
   ]
  },
  {
   "cell_type": "code",
   "execution_count": 3,
   "id": "soviet-stranger",
   "metadata": {},
   "outputs": [
    {
     "data": {
      "image/png": "[encoded data removed]",
      "image/svg+xml": [
       "<?xml version=\"1.0\" encoding=\"UTF-8\" standalone=\"no\"?>\n",
       "<!DOCTYPE svg PUBLIC \"-//W3C//DTD SVG 1.1//EN\"\n",
       " \"http://www.w3.org/Graphics/SVG/1.1/DTD/svg11.dtd\">\n",
       "<!-- Generated by graphviz version 2.46.0 (20210118.1747)\n",
       " -->\n",
       "<!-- Title: Entity Relationship Diagram Pages: 1 -->\n",
       "<svg width=\"859pt\" height=\"299pt\"\n",
       " viewBox=\"0.00 0.00 859.00 298.50\" xmlns=\"http://www.w3.org/2000/svg\" xmlns:xlink=\"http://www.w3.org/1999/xlink\">\n",
       "<g id=\"graph0\" class=\"graph\" transform=\"scale(1 1) rotate(0) translate(4 294.5)\">\n",
       "<title>Entity Relationship Diagram</title>\n",
       "<polygon fill=\"white\" stroke=\"transparent\" points=\"-4,4 -4,-294.5 855,-294.5 855,4 -4,4\"/>\n",
       "<text text-anchor=\"middle\" x=\"425.5\" y=\"-6.8\" font-family=\"Times,serif\" font-size=\"9.00\" fill=\"#a8a8a8\">Created by erdantic v0.1.0 &lt;https://github.com/drivendataorg/erdantic&gt;</text>\n",
       "<!-- Adventurer -->\n",
       "<g id=\"node1\" class=\"node\">\n",
       "<title>Adventurer</title>\n",
       "<g id=\"a_node1\"><a xlink:title=\"erdantic.examples.dataclasses.Adventurer&#10;&#10;A person often late for dinner but with a tale or two to tell.&#10;&#10;Attributes:&#10; &#160;&#160;&#160;name (str): Name of this adventurer&#10; &#160;&#160;&#160;profession (str): Profession of this adventurer&#10; &#160;&#160;&#160;level (int): Level of this adventurer&#10; &#160;&#160;&#160;alignment (int): Alignment of this adventurer\">\n",
       "<polygon fill=\"none\" stroke=\"black\" points=\"503,-265 503,-286 587,-286 587,-265 503,-265\"/>\n",
       "<text text-anchor=\"start\" x=\"511\" y=\"-272.8\" font-family=\"Times,serif\" font-weight=\"bold\" font-size=\"14.00\">Adventurer</text>\n",
       "<polygon fill=\"none\" stroke=\"black\" points=\"503,-244 503,-265 566,-265 566,-244 503,-244\"/>\n",
       "<text text-anchor=\"start\" x=\"519\" y=\"-250.8\" font-family=\"Times,serif\" font-size=\"14.00\">name</text>\n",
       "<polygon fill=\"none\" stroke=\"black\" points=\"566,-244 566,-265 587,-265 587,-244 566,-244\"/>\n",
       "<text text-anchor=\"start\" x=\"569.5\" y=\"-250.8\" font-family=\"Times,serif\" font-size=\"14.00\">str</text>\n",
       "<polygon fill=\"none\" stroke=\"black\" points=\"503,-223 503,-244 566,-244 566,-223 503,-223\"/>\n",
       "<text text-anchor=\"start\" x=\"506\" y=\"-229.8\" font-family=\"Times,serif\" font-size=\"14.00\">profession</text>\n",
       "<polygon fill=\"none\" stroke=\"black\" points=\"566,-223 566,-244 587,-244 587,-223 566,-223\"/>\n",
       "<text text-anchor=\"start\" x=\"569.5\" y=\"-229.8\" font-family=\"Times,serif\" font-size=\"14.00\">str</text>\n",
       "<polygon fill=\"none\" stroke=\"black\" points=\"503,-202 503,-223 566,-223 566,-202 503,-202\"/>\n",
       "<text text-anchor=\"start\" x=\"521\" y=\"-208.8\" font-family=\"Times,serif\" font-size=\"14.00\">level</text>\n",
       "<polygon fill=\"none\" stroke=\"black\" points=\"566,-202 566,-223 587,-223 587,-202 566,-202\"/>\n",
       "<text text-anchor=\"start\" x=\"569\" y=\"-208.8\" font-family=\"Times,serif\" font-size=\"14.00\">int</text>\n",
       "<polygon fill=\"none\" stroke=\"black\" points=\"503,-181 503,-202 566,-202 566,-181 503,-181\"/>\n",
       "<text text-anchor=\"start\" x=\"514.5\" y=\"-187.8\" font-family=\"Times,serif\" font-size=\"14.00\">affinity</text>\n",
       "<polygon fill=\"none\" stroke=\"black\" points=\"566,-181 566,-202 587,-202 587,-181 566,-181\"/>\n",
       "<text text-anchor=\"start\" x=\"569.5\" y=\"-187.8\" font-family=\"Times,serif\" font-size=\"14.00\">str</text>\n",
       "</a>\n",
       "</g>\n",
       "</g>\n",
       "<!-- Party -->\n",
       "<g id=\"node2\" class=\"node\">\n",
       "<title>Party</title>\n",
       "<g id=\"a_node2\"><a xlink:title=\"erdantic.examples.dataclasses.Party&#10;&#10;A group of adventurers finding themselves doing and saying things altogether unexpected.&#10;&#10;Attributes:&#10; &#160;&#160;&#160;name (str): Name that party is known by&#10; &#160;&#160;&#160;formed_datetime (datetime): Timestamp of when the party was formed&#10; &#160;&#160;&#160;members (List[Adventurer]): Adventurers that belong to this party&#10; &#160;&#160;&#160;active_quest (Optional[Quest]): Current quest that party is actively tackling\">\n",
       "<polygon fill=\"none\" stroke=\"black\" points=\"0.5,-269 0.5,-290 365.5,-290 365.5,-269 0.5,-269\"/>\n",
       "<text text-anchor=\"start\" x=\"166.5\" y=\"-276.8\" font-family=\"Times,serif\" font-weight=\"bold\" font-size=\"14.00\">Party</text>\n",
       "<polygon fill=\"none\" stroke=\"black\" points=\"0.5,-248 0.5,-269 100.5,-269 100.5,-248 0.5,-248\"/>\n",
       "<text text-anchor=\"start\" x=\"35\" y=\"-254.8\" font-family=\"Times,serif\" font-size=\"14.00\">name</text>\n",
       "<polygon fill=\"none\" stroke=\"black\" points=\"100.5,-248 100.5,-269 365.5,-269 365.5,-248 100.5,-248\"/>\n",
       "<text text-anchor=\"start\" x=\"226\" y=\"-254.8\" font-family=\"Times,serif\" font-size=\"14.00\">str</text>\n",
       "<polygon fill=\"none\" stroke=\"black\" points=\"0.5,-227 0.5,-248 100.5,-248 100.5,-227 0.5,-227\"/>\n",
       "<text text-anchor=\"start\" x=\"3.5\" y=\"-233.8\" font-family=\"Times,serif\" font-size=\"14.00\">formed_datetime</text>\n",
       "<polygon fill=\"none\" stroke=\"black\" points=\"100.5,-227 100.5,-248 365.5,-248 365.5,-227 100.5,-227\"/>\n",
       "<text text-anchor=\"start\" x=\"209\" y=\"-233.8\" font-family=\"Times,serif\" font-size=\"14.00\">datetime</text>\n",
       "<polygon fill=\"none\" stroke=\"black\" points=\"0.5,-206 0.5,-227 100.5,-227 100.5,-206 0.5,-206\"/>\n",
       "<text text-anchor=\"start\" x=\"24.5\" y=\"-212.8\" font-family=\"Times,serif\" font-size=\"14.00\">members</text>\n",
       "<polygon fill=\"none\" stroke=\"black\" points=\"100.5,-206 100.5,-227 365.5,-227 365.5,-206 100.5,-206\"/>\n",
       "<text text-anchor=\"start\" x=\"103.5\" y=\"-212.8\" font-family=\"Times,serif\" font-size=\"14.00\">List[erdantic.examples.dataclasses.Adventurer]</text>\n",
       "<polygon fill=\"none\" stroke=\"black\" points=\"0.5,-185 0.5,-206 100.5,-206 100.5,-185 0.5,-185\"/>\n",
       "<text text-anchor=\"start\" x=\"16.5\" y=\"-191.8\" font-family=\"Times,serif\" font-size=\"14.00\">active_quest</text>\n",
       "<polygon fill=\"none\" stroke=\"black\" points=\"100.5,-185 100.5,-206 365.5,-206 365.5,-185 100.5,-185\"/>\n",
       "<text text-anchor=\"start\" x=\"105.5\" y=\"-191.8\" font-family=\"Times,serif\" font-size=\"14.00\">Optional[erdantic.examples.dataclasses.Quest]</text>\n",
       "</a>\n",
       "</g>\n",
       "</g>\n",
       "<!-- Party&#45;&gt;Adventurer -->\n",
       "<g id=\"edge1\" class=\"edge\">\n",
       "<title>Party:e&#45;&gt;Adventurer:w</title>\n",
       "<path fill=\"none\" stroke=\"black\" d=\"M365,-216C424.85,-216 434.1,-264.64 483.87,-274.33\"/>\n",
       "<polygon fill=\"black\" stroke=\"black\" points=\"492.04,-275.08 501.59,-280.48 497.02,-275.54 502,-276 502,-276 502,-276 497.02,-275.54 502.41,-271.52 492.04,-275.08 492.04,-275.08\"/>\n",
       "<ellipse fill=\"none\" stroke=\"black\" cx=\"488.06\" cy=\"-274.72\" rx=\"4\" ry=\"4\"/>\n",
       "</g>\n",
       "<!-- Quest -->\n",
       "<g id=\"node3\" class=\"node\">\n",
       "<title>Quest</title>\n",
       "<g id=\"a_node3\"><a xlink:title=\"erdantic.examples.dataclasses.Quest&#10;&#10;A task to complete, with some monetary reward.&#10;&#10;Attributes:&#10; &#160;&#160;&#160;name (str): Name by which this quest is referred to&#10; &#160;&#160;&#160;giver (QuestGiver): Person who offered the quest&#10; &#160;&#160;&#160;reward_gold (int): Amount of gold to be rewarded for quest completion\">\n",
       "<polygon fill=\"none\" stroke=\"black\" points=\"473,-124 473,-145 617,-145 617,-124 473,-124\"/>\n",
       "<text text-anchor=\"start\" x=\"527.5\" y=\"-131.8\" font-family=\"Times,serif\" font-weight=\"bold\" font-size=\"14.00\">Quest</text>\n",
       "<polygon fill=\"none\" stroke=\"black\" points=\"473,-103 473,-124 548,-124 548,-103 473,-103\"/>\n",
       "<text text-anchor=\"start\" x=\"495\" y=\"-109.8\" font-family=\"Times,serif\" font-size=\"14.00\">name</text>\n",
       "<polygon fill=\"none\" stroke=\"black\" points=\"548,-103 548,-124 617,-124 617,-103 548,-103\"/>\n",
       "<text text-anchor=\"start\" x=\"575.5\" y=\"-109.8\" font-family=\"Times,serif\" font-size=\"14.00\">str</text>\n",
       "<polygon fill=\"none\" stroke=\"black\" points=\"473,-82 473,-103 548,-103 548,-82 473,-82\"/>\n",
       "<text text-anchor=\"start\" x=\"496.5\" y=\"-88.8\" font-family=\"Times,serif\" font-size=\"14.00\">giver</text>\n",
       "<polygon fill=\"none\" stroke=\"black\" points=\"548,-82 548,-103 617,-103 617,-82 548,-82\"/>\n",
       "<text text-anchor=\"start\" x=\"551\" y=\"-88.8\" font-family=\"Times,serif\" font-size=\"14.00\">QuestGiver</text>\n",
       "<polygon fill=\"none\" stroke=\"black\" points=\"473,-61 473,-82 548,-82 548,-61 473,-61\"/>\n",
       "<text text-anchor=\"start\" x=\"476\" y=\"-67.8\" font-family=\"Times,serif\" font-size=\"14.00\">reward_gold</text>\n",
       "<polygon fill=\"none\" stroke=\"black\" points=\"548,-61 548,-82 617,-82 617,-61 548,-61\"/>\n",
       "<text text-anchor=\"start\" x=\"575\" y=\"-67.8\" font-family=\"Times,serif\" font-size=\"14.00\">int</text>\n",
       "</a>\n",
       "</g>\n",
       "</g>\n",
       "<!-- Party&#45;&gt;Quest -->\n",
       "<g id=\"edge2\" class=\"edge\">\n",
       "<title>Party:e&#45;&gt;Quest:w</title>\n",
       "<path fill=\"none\" stroke=\"black\" d=\"M365,-195C413.15,-195 417.68,-148.86 455.1,-137.5\"/>\n",
       "<polyline fill=\"none\" stroke=\"black\" points=\"473,-135 468.05,-135.69 \"/>\n",
       "<polygon fill=\"black\" stroke=\"black\" points=\"466.37,-130.88 467.75,-140.78 465.77,-141.06 464.39,-131.16 466.37,-130.88\"/>\n",
       "<polyline fill=\"none\" stroke=\"black\" points=\"468.05,-135.69 463.1,-136.38 \"/>\n",
       "<ellipse fill=\"none\" stroke=\"black\" cx=\"459.13\" cy=\"-136.94\" rx=\"4\" ry=\"4\"/>\n",
       "</g>\n",
       "<!-- QuestGiver -->\n",
       "<g id=\"node4\" class=\"node\">\n",
       "<title>QuestGiver</title>\n",
       "<g id=\"a_node4\"><a xlink:title=\"erdantic.examples.dataclasses.QuestGiver&#10;&#10;A person who offers a task that needs completing.&#10;&#10;Attributes:&#10; &#160;&#160;&#160;name (str): Name of this quest giver&#10; &#160;&#160;&#160;faction (str): Faction that this quest giver belongs to&#10; &#160;&#160;&#160;location (str): Location this quest giver can be found\">\n",
       "<polygon fill=\"none\" stroke=\"black\" points=\"725,-81 725,-102 851,-102 851,-81 725,-81\"/>\n",
       "<text text-anchor=\"start\" x=\"753.5\" y=\"-88.8\" font-family=\"Times,serif\" font-weight=\"bold\" font-size=\"14.00\">QuestGiver</text>\n",
       "<polygon fill=\"none\" stroke=\"black\" points=\"725,-60 725,-81 775,-81 775,-60 725,-60\"/>\n",
       "<text text-anchor=\"start\" x=\"734.5\" y=\"-66.8\" font-family=\"Times,serif\" font-size=\"14.00\">name</text>\n",
       "<polygon fill=\"none\" stroke=\"black\" points=\"775,-60 775,-81 851,-81 851,-60 775,-60\"/>\n",
       "<text text-anchor=\"start\" x=\"806\" y=\"-66.8\" font-family=\"Times,serif\" font-size=\"14.00\">str</text>\n",
       "<polygon fill=\"none\" stroke=\"black\" points=\"725,-39 725,-60 775,-60 775,-39 725,-39\"/>\n",
       "<text text-anchor=\"start\" x=\"731\" y=\"-45.8\" font-family=\"Times,serif\" font-size=\"14.00\">faction</text>\n",
       "<polygon fill=\"none\" stroke=\"black\" points=\"775,-39 775,-60 851,-60 851,-39 775,-39\"/>\n",
       "<text text-anchor=\"start\" x=\"778\" y=\"-45.8\" font-family=\"Times,serif\" font-size=\"14.00\">Optional[str]</text>\n",
       "<polygon fill=\"none\" stroke=\"black\" points=\"725,-18 725,-39 775,-39 775,-18 725,-18\"/>\n",
       "<text text-anchor=\"start\" x=\"728\" y=\"-24.8\" font-family=\"Times,serif\" font-size=\"14.00\">location</text>\n",
       "<polygon fill=\"none\" stroke=\"black\" points=\"775,-18 775,-39 851,-39 851,-18 775,-18\"/>\n",
       "<text text-anchor=\"start\" x=\"806\" y=\"-24.8\" font-family=\"Times,serif\" font-size=\"14.00\">str</text>\n",
       "</a>\n",
       "</g>\n",
       "</g>\n",
       "<!-- Quest&#45;&gt;QuestGiver -->\n",
       "<g id=\"edge3\" class=\"edge\">\n",
       "<title>Quest:e&#45;&gt;QuestGiver:w</title>\n",
       "<path fill=\"none\" stroke=\"black\" d=\"M617,-92C659.56,-92 673.82,-92 709.97,-92\"/>\n",
       "<polyline fill=\"none\" stroke=\"black\" points=\"725,-92 720,-92 \"/>\n",
       "<polygon fill=\"black\" stroke=\"black\" points=\"719,-87 719,-97 717,-97 717,-87 719,-87\"/>\n",
       "<polyline fill=\"none\" stroke=\"black\" points=\"720,-92 715,-92 \"/>\n",
       "<polygon fill=\"black\" stroke=\"black\" points=\"714,-87 714,-97 712,-97 712,-87 714,-87\"/>\n",
       "<polyline fill=\"none\" stroke=\"black\" points=\"715,-92 710,-92 \"/>\n",
       "</g>\n",
       "</g>\n",
       "</svg>\n"
      ],
      "text/plain": [
       "EntityRelationshipDiagram(models=[DataClassModel(Adventurer), DataClassModel(Party), DataClassModel(Quest), DataClassModel(QuestGiver)], edges=[Edge(source=DataClassModel(Party), source_field=<DataClassField: 'members', List[erdantic.examples.dataclasses.Adventurer]>, target=DataClassModel(Adventurer)), Edge(source=DataClassModel(Party), source_field=<DataClassField: 'active_quest', Optional[erdantic.examples.dataclasses.Quest]>, target=DataClassModel(Quest)), Edge(source=DataClassModel(Quest), source_field=<DataClassField: 'giver', QuestGiver>, target=DataClassModel(QuestGiver))])"
      ]
     },
     "execution_count": 3,
     "metadata": {},
     "output_type": "execute_result"
    }
   ],
   "source": [
    "import erdantic as erd\n",
    "from erdantic.examples.dataclasses import Party\n",
    "\n",
    "\n",
    "diagram = erd.create(Party)\n",
    "diagram"
   ]
  },
  {
   "cell_type": "code",
   "execution_count": 4,
   "id": "earlier-dubai",
   "metadata": {},
   "outputs": [
    {
     "data": {
      "text/plain": [
       "[DataClassModel(Adventurer),\n",
       " DataClassModel(Party),\n",
       " DataClassModel(Quest),\n",
       " DataClassModel(QuestGiver)]"
      ]
     },
     "execution_count": 4,
     "metadata": {},
     "output_type": "execute_result"
    }
   ],
   "source": [
    "diagram.models"
   ]
  },
  {
   "cell_type": "code",
   "execution_count": 5,
   "id": "balanced-flash",
   "metadata": {},
   "outputs": [
    {
     "data": {
      "text/plain": [
       "[Edge(source=DataClassModel(Party), source_field=<DataClassField: 'members', List[erdantic.examples.dataclasses.Adventurer]>, target=DataClassModel(Adventurer)),\n",
       " Edge(source=DataClassModel(Party), source_field=<DataClassField: 'active_quest', Optional[erdantic.examples.dataclasses.Quest]>, target=DataClassModel(Quest)),\n",
       " Edge(source=DataClassModel(Quest), source_field=<DataClassField: 'giver', QuestGiver>, target=DataClassModel(QuestGiver))]"
      ]
     },
     "execution_count": 5,
     "metadata": {},
     "output_type": "execute_result"
    }
   ],
   "source": [
    "diagram.edges"
   ]
  },
  {
   "cell_type": "markdown",
   "id": "limited-invasion",
   "metadata": {},
   "source": [
    "You can use the `draw` method to render the diagram to disk."
   ]
  },
  {
   "cell_type": "code",
   "execution_count": 6,
   "id": "received-blocking",
   "metadata": {},
   "outputs": [],
   "source": [
    "diagram.draw(\"dataclasses.svg\")\n",
    "\n",
    "# Equivalently, use erd.draw directly from Party\n",
    "# erd.draw(Party, out=\"dataclasses.svg\")"
   ]
  },
  {
   "cell_type": "markdown",
   "id": "reasonable-inclusion",
   "metadata": {},
   "source": [
    "erdantic uses [Graphviz](https://graphviz.org/), a venerable open-source C library, to create the diagram. Graphviz uses the [DOT language](https://graphviz.org/doc/info/lang.html) for describing graphs. You use the `to_dot` method to get the DOT representation as a string. "
   ]
  },
  {
   "cell_type": "code",
   "execution_count": 7,
   "id": "historical-scout",
   "metadata": {},
   "outputs": [
    {
     "name": "stdout",
     "output_type": "stream",
     "text": [
      "digraph \"Entity Relationship Diagram\" {\n",
      "\tgraph [fontcolor=gray66,\n",
      "\t\tfontsize=9,\n",
      "\t\tlabel=\"Created by erdantic v0.1.0 <https://github.com/drivendataorg/erdantic>\",\n",
      "\t\tnodesep=0.5,\n",
      "\t\trankdir=LR,\n",
      "\t\tranksep=1.5\n",
      "\t];\n",
      "\tnode [fontsize=14,\n",
      "\t\tlabel=\"\\N\",\n",
      "\t\tshape=plain\n",
      "\t];\n",
      "\tAdventurer\t[label=<<table border=\"0\" cellborder=\"1\" cellspacing=\"0\"><tr><td port=\"_root\" colspan=\"2\"><b>Adventurer</b></td></tr><tr><td>name</td><td port=\"name\">str</td></tr><tr><td>profession</td><td port=\"profession\">str</td></tr><tr><td>level</td><td port=\"level\">int</td></tr><tr><td>affinity</td><td port=\"affinity\">str</td></tr></table>>,\n",
      "\t\ttooltip=\"erdantic.examples.dataclasses.Adventurer&#xA;&#xA;A person often late for dinner but with a tale or two to tell.&#xA;&#xA;Attributes:&#\\\n",
      "xA;    name (str): Name of this adventurer&#xA;    profession (str): Profession of this adventurer&#xA;    level (int): Level of \\\n",
      "this adventurer&#xA;    alignment (int): Alignment of this adventurer\"];\n",
      "\tParty\t[label=<<table border=\"0\" cellborder=\"1\" cellspacing=\"0\"><tr><td port=\"_root\" colspan=\"2\"><b>Party</b></td></tr><tr><td>name</td><td port=\"name\">str</td></tr><tr><td>formed_datetime</td><td port=\"formed_datetime\">datetime</td></tr><tr><td>members</td><td port=\"members\">List[erdantic.examples.dataclasses.Adventurer]</td></tr><tr><td>active_quest</td><td port=\"active_quest\">Optional[erdantic.examples.dataclasses.Quest]</td></tr></table>>,\n",
      "\t\ttooltip=\"erdantic.examples.dataclasses.Party&#xA;&#xA;A group of adventurers finding themselves doing and saying things altogether unexpected.&#\\\n",
      "xA;&#xA;Attributes:&#xA;    name (str): Name that party is known by&#xA;    formed_datetime (datetime): Timestamp of when the party \\\n",
      "was formed&#xA;    members (List[Adventurer]): Adventurers that belong to this party&#xA;    active_quest (Optional[Quest]): Current \\\n",
      "quest that party is actively tackling\"];\n",
      "\tParty:members:e -> Adventurer:_root:w\t[arrowhead=crowodot];\n",
      "\tQuest\t[label=<<table border=\"0\" cellborder=\"1\" cellspacing=\"0\"><tr><td port=\"_root\" colspan=\"2\"><b>Quest</b></td></tr><tr><td>name</td><td port=\"name\">str</td></tr><tr><td>giver</td><td port=\"giver\">QuestGiver</td></tr><tr><td>reward_gold</td><td port=\"reward_gold\">int</td></tr></table>>,\n",
      "\t\ttooltip=\"erdantic.examples.dataclasses.Quest&#xA;&#xA;A task to complete, with some monetary reward.&#xA;&#xA;Attributes:&#xA;    name (str): \\\n",
      "Name by which this quest is referred to&#xA;    giver (QuestGiver): Person who offered the quest&#xA;    reward_gold (int): Amount \\\n",
      "of gold to be rewarded for quest completion\"];\n",
      "\tParty:active_quest:e -> Quest:_root:w\t[arrowhead=noneteeodot];\n",
      "\tQuestGiver\t[label=<<table border=\"0\" cellborder=\"1\" cellspacing=\"0\"><tr><td port=\"_root\" colspan=\"2\"><b>QuestGiver</b></td></tr><tr><td>name</td><td port=\"name\">str</td></tr><tr><td>faction</td><td port=\"faction\">Optional[str]</td></tr><tr><td>location</td><td port=\"location\">str</td></tr></table>>,\n",
      "\t\ttooltip=\"erdantic.examples.dataclasses.QuestGiver&#xA;&#xA;A person who offers a task that needs completing.&#xA;&#xA;Attributes:&#xA;    \\\n",
      "name (str): Name of this quest giver&#xA;    faction (str): Faction that this quest giver belongs to&#xA;    location (str): Location \\\n",
      "this quest giver can be found\"];\n",
      "\tQuest:giver:e -> QuestGiver:_root:w\t[arrowhead=noneteetee];\n",
      "}\n",
      "\n"
     ]
    }
   ],
   "source": [
    "print(diagram.to_dot())\n",
    "\n",
    "# Equivalently, use erd.to_dot directly from Party\n",
    "assert diagram.to_dot() == erd.to_dot(Party)"
   ]
  }
 ],
 "metadata": {
  "kernelspec": {
   "display_name": "Python 3",
   "language": "python",
   "name": "python3"
  },
  "language_info": {
   "codemirror_mode": {
    "name": "ipython",
    "version": 3
   },
   "file_extension": ".py",
   "mimetype": "text/x-python",
   "name": "python",
   "nbconvert_exporter": "python",
   "pygments_lexer": "ipython3",
   "version": "3.9.1"
  }
 },
 "nbformat": 4,
 "nbformat_minor": 5
}
